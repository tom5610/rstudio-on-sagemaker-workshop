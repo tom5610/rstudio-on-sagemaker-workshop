{
 "cells": [
  {
   "cell_type": "raw",
   "id": "9a3191ce",
   "metadata": {},
   "source": [
    "---\n",
    "title: \"00_Intro\"\n",
    "output: rmarkdown::github_document\n",
    "knit: (function(inputFile, encoding) {\n",
    "  rmarkdown::render(inputFile, encoding = encoding, output_dir = \"rendered\") })\n",
    "---"
   ]
  },
  {
   "cell_type": "markdown",
   "id": "b8737b46",
   "metadata": {
    "lines_to_next_cell": 0
   },
   "source": [
    "## RStudio on SageMaker Introduction\n",
    "In collaboration with RStudio PBC, we are excited to announce the general \n",
    "availability of RStudio on Amazon SageMaker, the industry’s first fully managed \n",
    "RStudio Workbench IDE in the cloud. RStudio on SageMaker provides the familiar \n",
    "IDE that is known and loved throughout the R community.\n",
    "\n",
    "### Benefits on SageMaker\n",
    "RStudio on SageMaker establishes user authentication through IAM or SSO. Once \n",
    "authenticated the user assumes their SageMaker execution role which has granular \n",
    "permissions for all AWS functionality.\n",
    "\n",
    "This means that once authenticated, you can access S3 datasets, train and host \n",
    "models using SageMaker, launch AWS Glue jobs, etc without the need to \n",
    "re-authenticate yourself within the IDE.\n",
    "\n",
    "Additionally, among many of other benefits, you can right size the instance \n",
    "backing your RStudio session, and use the full flexibility of the cloud.\n",
    "\n",
    "### User EFS Mount\n",
    "When on-boarding a UserProfile to a SageMaker domain, a home directory is added \n",
    "to the Domains EFS (Network) storage. This is your personal storage location \n",
    "where can put code repositories, datasets, and other file objects. You can \n",
    "see this EFS mount as your Home directory within the RStudio IDE panel.\n",
    "\n",
    "### Right IDE at the right time\n",
    "This EFS home is shared across the Studio IDE you choose. In other words, you \n",
    "can utilize Studio's Jupyter or RStudio IDE with access to the same datasets \n",
    "and code repositories. \n",
    "\n",
    "### Terminal\n",
    "Within your RStudio Session, you have access to the terminal within your \n",
    "container and can make OS level installs / utilize command line programs like \n",
    "`git`. \n",
    "\n",
    "## Data Access\n",
    "There are several methods to access data within the RStudio on SageMaker IDE. \n",
    "\n",
    "### Download to EFS\n",
    "Using OS tooling"
   ]
  },
  {
   "cell_type": "code",
   "execution_count": 17,
   "id": "298f68c5-d36e-4df3-901f-3a9289158938",
   "metadata": {
    "tags": []
   },
   "outputs": [
    {
     "name": "stderr",
     "output_type": "stream",
     "text": [
      "Updating HTML index of packages in '.Library'\n",
      "\n",
      "Making 'packages.html' ...\n",
      " done\n",
      "\n",
      "Warning message in readLines(file):\n",
      "“incomplete final line found on '../env.properties'”\n"
     ]
    }
   ],
   "source": [
    "install.packages(\"properties\")\n",
    "library(properties)\n",
    "\n",
    "envProps <- read.properties(\"../env.properties\")\n",
    "\n",
    "Sys.setenv(\n",
    "    \"AWS_ACCESS_KEY_ID\" = envProps$access_key, \n",
    "    \"AWS_SECRET_ACCESS_KEY\" = envProps$secret_key,\n",
    "    \"AWS_DEFAULT_REGION\" = 'us-east-1')\n"
   ]
  },
  {
   "cell_type": "code",
   "execution_count": null,
   "id": "50bf6da3-f717-41c5-b5bc-0ec17691b109",
   "metadata": {
    "tags": []
   },
   "outputs": [],
   "source": []
  },
  {
   "cell_type": "code",
   "execution_count": 1,
   "id": "a400f565",
   "metadata": {
    "lines_to_next_cell": 2,
    "tags": [
     "remove_output"
    ]
   },
   "outputs": [
    {
     "data": {
      "text/html": [],
      "text/latex": [],
      "text/markdown": [],
      "text/plain": [
       "character(0)"
      ]
     },
     "metadata": {},
     "output_type": "display_data"
    },
    {
     "data": {
      "text/html": [],
      "text/latex": [],
      "text/markdown": [],
      "text/plain": [
       "character(0)"
      ]
     },
     "metadata": {},
     "output_type": "display_data"
    }
   ],
   "source": [
    "system(\"mkdir -p ./dataset/\", intern=TRUE)\n",
    "system(\"wget https://archive.ics.uci.edu/ml/machine-learning-databases/abalone/abalone.data -O ./dataset/abalone.csv\", intern=TRUE)"
   ]
  },
  {
   "cell_type": "markdown",
   "id": "653f7fd9",
   "metadata": {
    "lines_to_next_cell": 0
   },
   "source": [
    "Using aws cli"
   ]
  },
  {
   "cell_type": "code",
   "execution_count": 2,
   "id": "846e6b0a",
   "metadata": {
    "lines_to_next_cell": 2,
    "tags": []
   },
   "outputs": [
    {
     "data": {
      "text/html": [
       "'Completed 187.4 KiB/187.4 KiB (2.1 MiB/s) with 1 file(s) remaining\\rdownload: s3://sagemaker-sample-files/datasets/tabular/uci_abalone/abalone.csv to dataset/abalone.csv'"
      ],
      "text/latex": [
       "'Completed 187.4 KiB/187.4 KiB (2.1 MiB/s) with 1 file(s) remaining\\textbackslash{}rdownload: s3://sagemaker-sample-files/datasets/tabular/uci\\_abalone/abalone.csv to dataset/abalone.csv'"
      ],
      "text/markdown": [
       "'Completed 187.4 KiB/187.4 KiB (2.1 MiB/s) with 1 file(s) remaining\\rdownload: s3://sagemaker-sample-files/datasets/tabular/uci_abalone/abalone.csv to dataset/abalone.csv'"
      ],
      "text/plain": [
       "[1] \"Completed 187.4 KiB/187.4 KiB (2.1 MiB/s) with 1 file(s) remaining\\rdownload: s3://sagemaker-sample-files/datasets/tabular/uci_abalone/abalone.csv to dataset/abalone.csv\""
      ]
     },
     "metadata": {},
     "output_type": "display_data"
    }
   ],
   "source": [
    "system(\"aws s3 cp s3://sagemaker-sample-files/datasets/tabular/uci_abalone/abalone.csv ./dataset/\", intern=TRUE)"
   ]
  },
  {
   "cell_type": "markdown",
   "id": "1c2ea253",
   "metadata": {
    "lines_to_next_cell": 0
   },
   "source": [
    "### Utilize Native R Packages to read from Disk or HTTP"
   ]
  },
  {
   "cell_type": "code",
   "execution_count": 3,
   "id": "ba0b935d",
   "metadata": {
    "message": false,
    "tags": []
   },
   "outputs": [
    {
     "name": "stderr",
     "output_type": "stream",
     "text": [
      "── \u001b[1mAttaching core tidyverse packages\u001b[22m ──────────────────────── tidyverse 2.0.0 ──\n",
      "\u001b[32m✔\u001b[39m \u001b[34mdplyr    \u001b[39m 1.1.4     \u001b[32m✔\u001b[39m \u001b[34mreadr    \u001b[39m 2.1.5\n",
      "\u001b[32m✔\u001b[39m \u001b[34mforcats  \u001b[39m 1.0.0     \u001b[32m✔\u001b[39m \u001b[34mstringr  \u001b[39m 1.5.1\n",
      "\u001b[32m✔\u001b[39m \u001b[34mggplot2  \u001b[39m 3.5.1     \u001b[32m✔\u001b[39m \u001b[34mtibble   \u001b[39m 3.2.1\n",
      "\u001b[32m✔\u001b[39m \u001b[34mlubridate\u001b[39m 1.9.3     \u001b[32m✔\u001b[39m \u001b[34mtidyr    \u001b[39m 1.3.1\n",
      "\u001b[32m✔\u001b[39m \u001b[34mpurrr    \u001b[39m 1.0.2     \n",
      "── \u001b[1mConflicts\u001b[22m ────────────────────────────────────────── tidyverse_conflicts() ──\n",
      "\u001b[31m✖\u001b[39m \u001b[34mdplyr\u001b[39m::\u001b[32mfilter()\u001b[39m masks \u001b[34mstats\u001b[39m::filter()\n",
      "\u001b[31m✖\u001b[39m \u001b[34mdplyr\u001b[39m::\u001b[32mlag()\u001b[39m    masks \u001b[34mstats\u001b[39m::lag()\n",
      "\u001b[36mℹ\u001b[39m Use the conflicted package (\u001b[3m\u001b[34m<http://conflicted.r-lib.org/>\u001b[39m\u001b[23m) to force all conflicts to become errors\n"
     ]
    }
   ],
   "source": [
    "if (!'tidyverse' %in% installed.packages()) {install.packages('tidyverse')}\n",
    "suppressWarnings(library(tidyverse))"
   ]
  },
  {
   "cell_type": "code",
   "execution_count": 4,
   "id": "da36d70f",
   "metadata": {
    "tags": []
   },
   "outputs": [
    {
     "data": {
      "text/html": [
       "<table class=\"dataframe\">\n",
       "<caption>A tibble: 6 × 9</caption>\n",
       "<thead>\n",
       "\t<tr><th scope=col>M</th><th scope=col>0.455</th><th scope=col>0.365</th><th scope=col>0.095</th><th scope=col>0.514</th><th scope=col>0.2245</th><th scope=col>0.101</th><th scope=col>0.15</th><th scope=col>15</th></tr>\n",
       "\t<tr><th scope=col>&lt;chr&gt;</th><th scope=col>&lt;dbl&gt;</th><th scope=col>&lt;dbl&gt;</th><th scope=col>&lt;dbl&gt;</th><th scope=col>&lt;dbl&gt;</th><th scope=col>&lt;dbl&gt;</th><th scope=col>&lt;dbl&gt;</th><th scope=col>&lt;dbl&gt;</th><th scope=col>&lt;dbl&gt;</th></tr>\n",
       "</thead>\n",
       "<tbody>\n",
       "\t<tr><td>M</td><td>0.350</td><td>0.265</td><td>0.090</td><td>0.2255</td><td>0.0995</td><td>0.0485</td><td>0.070</td><td> 7</td></tr>\n",
       "\t<tr><td>F</td><td>0.530</td><td>0.420</td><td>0.135</td><td>0.6770</td><td>0.2565</td><td>0.1415</td><td>0.210</td><td> 9</td></tr>\n",
       "\t<tr><td>M</td><td>0.440</td><td>0.365</td><td>0.125</td><td>0.5160</td><td>0.2155</td><td>0.1140</td><td>0.155</td><td>10</td></tr>\n",
       "\t<tr><td>I</td><td>0.330</td><td>0.255</td><td>0.080</td><td>0.2050</td><td>0.0895</td><td>0.0395</td><td>0.055</td><td> 7</td></tr>\n",
       "\t<tr><td>I</td><td>0.425</td><td>0.300</td><td>0.095</td><td>0.3515</td><td>0.1410</td><td>0.0775</td><td>0.120</td><td> 8</td></tr>\n",
       "\t<tr><td>F</td><td>0.530</td><td>0.415</td><td>0.150</td><td>0.7775</td><td>0.2370</td><td>0.1415</td><td>0.330</td><td>20</td></tr>\n",
       "</tbody>\n",
       "</table>\n"
      ],
      "text/latex": [
       "A tibble: 6 × 9\n",
       "\\begin{tabular}{lllllllll}\n",
       " M & 0.455 & 0.365 & 0.095 & 0.514 & 0.2245 & 0.101 & 0.15 & 15\\\\\n",
       " <chr> & <dbl> & <dbl> & <dbl> & <dbl> & <dbl> & <dbl> & <dbl> & <dbl>\\\\\n",
       "\\hline\n",
       "\t M & 0.350 & 0.265 & 0.090 & 0.2255 & 0.0995 & 0.0485 & 0.070 &  7\\\\\n",
       "\t F & 0.530 & 0.420 & 0.135 & 0.6770 & 0.2565 & 0.1415 & 0.210 &  9\\\\\n",
       "\t M & 0.440 & 0.365 & 0.125 & 0.5160 & 0.2155 & 0.1140 & 0.155 & 10\\\\\n",
       "\t I & 0.330 & 0.255 & 0.080 & 0.2050 & 0.0895 & 0.0395 & 0.055 &  7\\\\\n",
       "\t I & 0.425 & 0.300 & 0.095 & 0.3515 & 0.1410 & 0.0775 & 0.120 &  8\\\\\n",
       "\t F & 0.530 & 0.415 & 0.150 & 0.7775 & 0.2370 & 0.1415 & 0.330 & 20\\\\\n",
       "\\end{tabular}\n"
      ],
      "text/markdown": [
       "\n",
       "A tibble: 6 × 9\n",
       "\n",
       "| M &lt;chr&gt; | 0.455 &lt;dbl&gt; | 0.365 &lt;dbl&gt; | 0.095 &lt;dbl&gt; | 0.514 &lt;dbl&gt; | 0.2245 &lt;dbl&gt; | 0.101 &lt;dbl&gt; | 0.15 &lt;dbl&gt; | 15 &lt;dbl&gt; |\n",
       "|---|---|---|---|---|---|---|---|---|\n",
       "| M | 0.350 | 0.265 | 0.090 | 0.2255 | 0.0995 | 0.0485 | 0.070 |  7 |\n",
       "| F | 0.530 | 0.420 | 0.135 | 0.6770 | 0.2565 | 0.1415 | 0.210 |  9 |\n",
       "| M | 0.440 | 0.365 | 0.125 | 0.5160 | 0.2155 | 0.1140 | 0.155 | 10 |\n",
       "| I | 0.330 | 0.255 | 0.080 | 0.2050 | 0.0895 | 0.0395 | 0.055 |  7 |\n",
       "| I | 0.425 | 0.300 | 0.095 | 0.3515 | 0.1410 | 0.0775 | 0.120 |  8 |\n",
       "| F | 0.530 | 0.415 | 0.150 | 0.7775 | 0.2370 | 0.1415 | 0.330 | 20 |\n",
       "\n"
      ],
      "text/plain": [
       "  M 0.455 0.365 0.095 0.514  0.2245 0.101  0.15  15\n",
       "1 M 0.350 0.265 0.090 0.2255 0.0995 0.0485 0.070  7\n",
       "2 F 0.530 0.420 0.135 0.6770 0.2565 0.1415 0.210  9\n",
       "3 M 0.440 0.365 0.125 0.5160 0.2155 0.1140 0.155 10\n",
       "4 I 0.330 0.255 0.080 0.2050 0.0895 0.0395 0.055  7\n",
       "5 I 0.425 0.300 0.095 0.3515 0.1410 0.0775 0.120  8\n",
       "6 F 0.530 0.415 0.150 0.7775 0.2370 0.1415 0.330 20"
      ]
     },
     "metadata": {},
     "output_type": "display_data"
    }
   ],
   "source": [
    "df_http <- read_csv(file = 'http://archive.ics.uci.edu/ml/machine-learning-databases/abalone/abalone.data', show_col_types = FALSE)\n",
    "df_disk <- read_csv(file = 'dataset/abalone.csv', show_col_types = FALSE)\n",
    "head(df_http)"
   ]
  },
  {
   "cell_type": "code",
   "execution_count": 5,
   "id": "a1fe3392-a718-4bcc-8ca9-a74390c05e22",
   "metadata": {
    "tags": []
   },
   "outputs": [
    {
     "data": {
      "text/html": [
       "<table class=\"dataframe\">\n",
       "<caption>A tibble: 6 × 9</caption>\n",
       "<thead>\n",
       "\t<tr><th scope=col>M</th><th scope=col>0.455</th><th scope=col>0.365</th><th scope=col>0.095</th><th scope=col>0.514</th><th scope=col>0.2245</th><th scope=col>0.101</th><th scope=col>0.15</th><th scope=col>15</th></tr>\n",
       "\t<tr><th scope=col>&lt;chr&gt;</th><th scope=col>&lt;dbl&gt;</th><th scope=col>&lt;dbl&gt;</th><th scope=col>&lt;dbl&gt;</th><th scope=col>&lt;dbl&gt;</th><th scope=col>&lt;dbl&gt;</th><th scope=col>&lt;dbl&gt;</th><th scope=col>&lt;dbl&gt;</th><th scope=col>&lt;dbl&gt;</th></tr>\n",
       "</thead>\n",
       "<tbody>\n",
       "\t<tr><td>M</td><td>0.350</td><td>0.265</td><td>0.090</td><td>0.2255</td><td>0.0995</td><td>0.0485</td><td>0.070</td><td> 7</td></tr>\n",
       "\t<tr><td>F</td><td>0.530</td><td>0.420</td><td>0.135</td><td>0.6770</td><td>0.2565</td><td>0.1415</td><td>0.210</td><td> 9</td></tr>\n",
       "\t<tr><td>M</td><td>0.440</td><td>0.365</td><td>0.125</td><td>0.5160</td><td>0.2155</td><td>0.1140</td><td>0.155</td><td>10</td></tr>\n",
       "\t<tr><td>I</td><td>0.330</td><td>0.255</td><td>0.080</td><td>0.2050</td><td>0.0895</td><td>0.0395</td><td>0.055</td><td> 7</td></tr>\n",
       "\t<tr><td>I</td><td>0.425</td><td>0.300</td><td>0.095</td><td>0.3515</td><td>0.1410</td><td>0.0775</td><td>0.120</td><td> 8</td></tr>\n",
       "\t<tr><td>F</td><td>0.530</td><td>0.415</td><td>0.150</td><td>0.7775</td><td>0.2370</td><td>0.1415</td><td>0.330</td><td>20</td></tr>\n",
       "</tbody>\n",
       "</table>\n"
      ],
      "text/latex": [
       "A tibble: 6 × 9\n",
       "\\begin{tabular}{lllllllll}\n",
       " M & 0.455 & 0.365 & 0.095 & 0.514 & 0.2245 & 0.101 & 0.15 & 15\\\\\n",
       " <chr> & <dbl> & <dbl> & <dbl> & <dbl> & <dbl> & <dbl> & <dbl> & <dbl>\\\\\n",
       "\\hline\n",
       "\t M & 0.350 & 0.265 & 0.090 & 0.2255 & 0.0995 & 0.0485 & 0.070 &  7\\\\\n",
       "\t F & 0.530 & 0.420 & 0.135 & 0.6770 & 0.2565 & 0.1415 & 0.210 &  9\\\\\n",
       "\t M & 0.440 & 0.365 & 0.125 & 0.5160 & 0.2155 & 0.1140 & 0.155 & 10\\\\\n",
       "\t I & 0.330 & 0.255 & 0.080 & 0.2050 & 0.0895 & 0.0395 & 0.055 &  7\\\\\n",
       "\t I & 0.425 & 0.300 & 0.095 & 0.3515 & 0.1410 & 0.0775 & 0.120 &  8\\\\\n",
       "\t F & 0.530 & 0.415 & 0.150 & 0.7775 & 0.2370 & 0.1415 & 0.330 & 20\\\\\n",
       "\\end{tabular}\n"
      ],
      "text/markdown": [
       "\n",
       "A tibble: 6 × 9\n",
       "\n",
       "| M &lt;chr&gt; | 0.455 &lt;dbl&gt; | 0.365 &lt;dbl&gt; | 0.095 &lt;dbl&gt; | 0.514 &lt;dbl&gt; | 0.2245 &lt;dbl&gt; | 0.101 &lt;dbl&gt; | 0.15 &lt;dbl&gt; | 15 &lt;dbl&gt; |\n",
       "|---|---|---|---|---|---|---|---|---|\n",
       "| M | 0.350 | 0.265 | 0.090 | 0.2255 | 0.0995 | 0.0485 | 0.070 |  7 |\n",
       "| F | 0.530 | 0.420 | 0.135 | 0.6770 | 0.2565 | 0.1415 | 0.210 |  9 |\n",
       "| M | 0.440 | 0.365 | 0.125 | 0.5160 | 0.2155 | 0.1140 | 0.155 | 10 |\n",
       "| I | 0.330 | 0.255 | 0.080 | 0.2050 | 0.0895 | 0.0395 | 0.055 |  7 |\n",
       "| I | 0.425 | 0.300 | 0.095 | 0.3515 | 0.1410 | 0.0775 | 0.120 |  8 |\n",
       "| F | 0.530 | 0.415 | 0.150 | 0.7775 | 0.2370 | 0.1415 | 0.330 | 20 |\n",
       "\n"
      ],
      "text/plain": [
       "  M 0.455 0.365 0.095 0.514  0.2245 0.101  0.15  15\n",
       "1 M 0.350 0.265 0.090 0.2255 0.0995 0.0485 0.070  7\n",
       "2 F 0.530 0.420 0.135 0.6770 0.2565 0.1415 0.210  9\n",
       "3 M 0.440 0.365 0.125 0.5160 0.2155 0.1140 0.155 10\n",
       "4 I 0.330 0.255 0.080 0.2050 0.0895 0.0395 0.055  7\n",
       "5 I 0.425 0.300 0.095 0.3515 0.1410 0.0775 0.120  8\n",
       "6 F 0.530 0.415 0.150 0.7775 0.2370 0.1415 0.330 20"
      ]
     },
     "metadata": {},
     "output_type": "display_data"
    }
   ],
   "source": [
    "head(df_disk)"
   ]
  },
  {
   "cell_type": "markdown",
   "id": "6aeb0a7c",
   "metadata": {
    "lines_to_next_cell": 0
   },
   "source": [
    "### Utilize Python Boto3 or SageMaker SDK with Reticulate\n",
    "First, load the `reticulate` library and import the `sagemaker` Python module.\n",
    "Once the module is loaded, use the `$` notation in R instead of the `.` notation\n",
    "in Python to use available classes.\n",
    "\n",
    "The reticulate and python SDKs come pre-installed in the RStudio on SageMaker\n",
    "containers."
   ]
  },
  {
   "cell_type": "code",
   "execution_count": 6,
   "id": "5ec1463a",
   "metadata": {
    "tags": []
   },
   "outputs": [
    {
     "data": {
      "text/html": [
       "<style>\n",
       ".list-inline {list-style: none; margin:0; padding: 0}\n",
       ".list-inline>li {display: inline-block}\n",
       ".list-inline>li:not(:last-child)::after {content: \"\\00b7\"; padding: 0 .5ex}\n",
       "</style>\n",
       "<ol class=list-inline><li>'python.builtin.module'</li><li>'python.builtin.object'</li></ol>\n"
      ],
      "text/latex": [
       "\\begin{enumerate*}\n",
       "\\item 'python.builtin.module'\n",
       "\\item 'python.builtin.object'\n",
       "\\end{enumerate*}\n"
      ],
      "text/markdown": [
       "1. 'python.builtin.module'\n",
       "2. 'python.builtin.object'\n",
       "\n",
       "\n"
      ],
      "text/plain": [
       "[1] \"python.builtin.module\" \"python.builtin.object\""
      ]
     },
     "metadata": {},
     "output_type": "display_data"
    }
   ],
   "source": [
    "# Packages ----\n",
    "suppressWarnings(library(reticulate))\n",
    "path_to_python <- system(\"which python\", intern = TRUE)\n",
    "use_python(path_to_python)\n",
    "\n",
    "\n",
    "# Python packages ----\n",
    "sagemaker <- import(\"sagemaker\")\n",
    "class(sagemaker)"
   ]
  },
  {
   "cell_type": "markdown",
   "id": "e38415ff",
   "metadata": {
    "lines_to_next_cell": 0
   },
   "source": [
    "Let’s create an Amazon Simple Storage Service (S3) bucket for your data."
   ]
  },
  {
   "cell_type": "code",
   "execution_count": 7,
   "id": "13e6b647",
   "metadata": {
    "tags": [
     "remove_output"
    ]
   },
   "outputs": [
    {
     "name": "stdout",
     "output_type": "stream",
     "text": [
      "[1] \"sagemaker-us-east-1-482851446821\"\n"
     ]
    }
   ],
   "source": [
    "session <- sagemaker$Session()\n",
    "bucket <- session$default_bucket()\n",
    "print(bucket)"
   ]
  },
  {
   "cell_type": "markdown",
   "id": "e73c5598",
   "metadata": {
    "lines_to_next_cell": 0
   },
   "source": [
    "Upload data to personal S3 bucket"
   ]
  },
  {
   "cell_type": "code",
   "execution_count": 8,
   "id": "0bb8bc64",
   "metadata": {
    "lines_to_next_cell": 2,
    "tags": [
     "remove_output"
    ]
   },
   "outputs": [
    {
     "name": "stdout",
     "output_type": "stream",
     "text": [
      "[1] \"s3://sagemaker-us-east-1-482851446821/data/abalone.csv\"\n"
     ]
    }
   ],
   "source": [
    "abalone_on_s3_uri <- session$upload_data(path = 'dataset/abalone.csv', bucket = bucket, key_prefix = 'data')\n",
    "print(abalone_on_s3_uri)"
   ]
  },
  {
   "cell_type": "markdown",
   "id": "1046547a",
   "metadata": {
    "lines_to_next_cell": 0
   },
   "source": [
    "### Utilize Native R Packages to read from S3\n",
    "The `aws.s3` library provides a `s3read_using` function to load data directly \n",
    "into memory. Using the additional `aws.ec2metadata` library, we are able to \n",
    "utilize your SageMaker execution role's credentials."
   ]
  },
  {
   "cell_type": "code",
   "execution_count": 13,
   "id": "4eae250e",
   "metadata": {
    "lines_to_next_cell": 2,
    "tags": []
   },
   "outputs": [],
   "source": [
    "if (!'aws.s3' %in% installed.packages()) {install.packages('aws.s3')}\n",
    "\n",
    "# aws.ec2metadata doesn't work as IMDBv2 is being used on VM\n",
    "if (!'aws.ec2metadata' %in% installed.packages()) {install.packages('aws.ec2metadata')}"
   ]
  },
  {
   "cell_type": "code",
   "execution_count": 21,
   "id": "3362537f-2b1d-499a-9623-098531daad46",
   "metadata": {
    "tags": []
   },
   "outputs": [
    {
     "data": {
      "text/html": [
       "<table class=\"dataframe\">\n",
       "<caption>A data.frame: 6 × 9</caption>\n",
       "<thead>\n",
       "\t<tr><th></th><th scope=col>M</th><th scope=col>X0.455</th><th scope=col>X0.365</th><th scope=col>X0.095</th><th scope=col>X0.514</th><th scope=col>X0.2245</th><th scope=col>X0.101</th><th scope=col>X0.15</th><th scope=col>X15</th></tr>\n",
       "\t<tr><th></th><th scope=col>&lt;chr&gt;</th><th scope=col>&lt;dbl&gt;</th><th scope=col>&lt;dbl&gt;</th><th scope=col>&lt;dbl&gt;</th><th scope=col>&lt;dbl&gt;</th><th scope=col>&lt;dbl&gt;</th><th scope=col>&lt;dbl&gt;</th><th scope=col>&lt;dbl&gt;</th><th scope=col>&lt;int&gt;</th></tr>\n",
       "</thead>\n",
       "<tbody>\n",
       "\t<tr><th scope=row>1</th><td>M</td><td>0.350</td><td>0.265</td><td>0.090</td><td>0.2255</td><td>0.0995</td><td>0.0485</td><td>0.070</td><td> 7</td></tr>\n",
       "\t<tr><th scope=row>2</th><td>F</td><td>0.530</td><td>0.420</td><td>0.135</td><td>0.6770</td><td>0.2565</td><td>0.1415</td><td>0.210</td><td> 9</td></tr>\n",
       "\t<tr><th scope=row>3</th><td>M</td><td>0.440</td><td>0.365</td><td>0.125</td><td>0.5160</td><td>0.2155</td><td>0.1140</td><td>0.155</td><td>10</td></tr>\n",
       "\t<tr><th scope=row>4</th><td>I</td><td>0.330</td><td>0.255</td><td>0.080</td><td>0.2050</td><td>0.0895</td><td>0.0395</td><td>0.055</td><td> 7</td></tr>\n",
       "\t<tr><th scope=row>5</th><td>I</td><td>0.425</td><td>0.300</td><td>0.095</td><td>0.3515</td><td>0.1410</td><td>0.0775</td><td>0.120</td><td> 8</td></tr>\n",
       "\t<tr><th scope=row>6</th><td>F</td><td>0.530</td><td>0.415</td><td>0.150</td><td>0.7775</td><td>0.2370</td><td>0.1415</td><td>0.330</td><td>20</td></tr>\n",
       "</tbody>\n",
       "</table>\n"
      ],
      "text/latex": [
       "A data.frame: 6 × 9\n",
       "\\begin{tabular}{r|lllllllll}\n",
       "  & M & X0.455 & X0.365 & X0.095 & X0.514 & X0.2245 & X0.101 & X0.15 & X15\\\\\n",
       "  & <chr> & <dbl> & <dbl> & <dbl> & <dbl> & <dbl> & <dbl> & <dbl> & <int>\\\\\n",
       "\\hline\n",
       "\t1 & M & 0.350 & 0.265 & 0.090 & 0.2255 & 0.0995 & 0.0485 & 0.070 &  7\\\\\n",
       "\t2 & F & 0.530 & 0.420 & 0.135 & 0.6770 & 0.2565 & 0.1415 & 0.210 &  9\\\\\n",
       "\t3 & M & 0.440 & 0.365 & 0.125 & 0.5160 & 0.2155 & 0.1140 & 0.155 & 10\\\\\n",
       "\t4 & I & 0.330 & 0.255 & 0.080 & 0.2050 & 0.0895 & 0.0395 & 0.055 &  7\\\\\n",
       "\t5 & I & 0.425 & 0.300 & 0.095 & 0.3515 & 0.1410 & 0.0775 & 0.120 &  8\\\\\n",
       "\t6 & F & 0.530 & 0.415 & 0.150 & 0.7775 & 0.2370 & 0.1415 & 0.330 & 20\\\\\n",
       "\\end{tabular}\n"
      ],
      "text/markdown": [
       "\n",
       "A data.frame: 6 × 9\n",
       "\n",
       "| <!--/--> | M &lt;chr&gt; | X0.455 &lt;dbl&gt; | X0.365 &lt;dbl&gt; | X0.095 &lt;dbl&gt; | X0.514 &lt;dbl&gt; | X0.2245 &lt;dbl&gt; | X0.101 &lt;dbl&gt; | X0.15 &lt;dbl&gt; | X15 &lt;int&gt; |\n",
       "|---|---|---|---|---|---|---|---|---|---|\n",
       "| 1 | M | 0.350 | 0.265 | 0.090 | 0.2255 | 0.0995 | 0.0485 | 0.070 |  7 |\n",
       "| 2 | F | 0.530 | 0.420 | 0.135 | 0.6770 | 0.2565 | 0.1415 | 0.210 |  9 |\n",
       "| 3 | M | 0.440 | 0.365 | 0.125 | 0.5160 | 0.2155 | 0.1140 | 0.155 | 10 |\n",
       "| 4 | I | 0.330 | 0.255 | 0.080 | 0.2050 | 0.0895 | 0.0395 | 0.055 |  7 |\n",
       "| 5 | I | 0.425 | 0.300 | 0.095 | 0.3515 | 0.1410 | 0.0775 | 0.120 |  8 |\n",
       "| 6 | F | 0.530 | 0.415 | 0.150 | 0.7775 | 0.2370 | 0.1415 | 0.330 | 20 |\n",
       "\n"
      ],
      "text/plain": [
       "  M X0.455 X0.365 X0.095 X0.514 X0.2245 X0.101 X0.15 X15\n",
       "1 M 0.350  0.265  0.090  0.2255 0.0995  0.0485 0.070  7 \n",
       "2 F 0.530  0.420  0.135  0.6770 0.2565  0.1415 0.210  9 \n",
       "3 M 0.440  0.365  0.125  0.5160 0.2155  0.1140 0.155 10 \n",
       "4 I 0.330  0.255  0.080  0.2050 0.0895  0.0395 0.055  7 \n",
       "5 I 0.425  0.300  0.095  0.3515 0.1410  0.0775 0.120  8 \n",
       "6 F 0.530  0.415  0.150  0.7775 0.2370  0.1415 0.330 20 "
      ]
     },
     "metadata": {},
     "output_type": "display_data"
    }
   ],
   "source": [
    "library(aws.s3)\n",
    "\n",
    "\n",
    "df_s3 <- s3read_using(FUN = read.csv, object = \"data/abalone.csv\", bucket = bucket)\n",
    "head(df_s3)"
   ]
  },
  {
   "cell_type": "markdown",
   "id": "bd5fd8c8",
   "metadata": {},
   "source": [
    "## Package Management\n",
    "Users are able to install packages using the native R `install` command as well \n",
    "as through the graphical interface in Rstudio. When creating your domain there \n",
    "is an optional parameter to set a RStudio Package Manager URL so your team \n",
    "can utilize internal repositories as well.\n",
    "\n",
    "## Publishing to RStudio Connect\n",
    "Functionality to publishing to RStudio Connect works as expected and depending \n",
    "on your networking configuration, your domain can utilize RStudio connect \n",
    "servers in a private subnet.\n"
   ]
  }
 ],
 "metadata": {
  "jupytext": {
   "cell_metadata_filter": "message,tags,-all",
   "main_language": "R",
   "notebook_metadata_filter": "-all"
  },
  "kernelspec": {
   "display_name": "R",
   "language": "R",
   "name": "ir"
  },
  "language_info": {
   "codemirror_mode": "r",
   "file_extension": ".r",
   "mimetype": "text/x-r-source",
   "name": "R",
   "pygments_lexer": "r",
   "version": "4.3.3"
  }
 },
 "nbformat": 4,
 "nbformat_minor": 5
}
