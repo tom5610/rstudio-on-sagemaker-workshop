{
 "cells": [
  {
   "cell_type": "raw",
   "id": "8798ca5f",
   "metadata": {},
   "source": [
    "---\n",
    "title: \"00_SageMakerAlgo\"\n",
    "output: rmarkdown::github_document\n",
    "knit: (function(inputFile, encoding) {\n",
    "  rmarkdown::render(inputFile, encoding = encoding, output_dir = \"rendered\") })\n",
    "---"
   ]
  },
  {
   "cell_type": "code",
   "execution_count": 1,
   "id": "cf940126-7a53-4dee-91b7-cf2ba77f7897",
   "metadata": {
    "tags": []
   },
   "outputs": [
    {
     "name": "stderr",
     "output_type": "stream",
     "text": [
      "Updating HTML index of packages in '.Library'\n",
      "\n",
      "Making 'packages.html' ...\n",
      " done\n",
      "\n",
      "Warning message in readLines(file):\n",
      "“incomplete final line found on '../env.properties'”\n"
     ]
    }
   ],
   "source": [
    "install.packages(\"properties\")\n",
    "library(properties)\n",
    "\n",
    "envProps <- read.properties(\"../env.properties\")\n",
    "\n",
    "Sys.setenv(\n",
    "    \"AWS_ACCESS_KEY_ID\" = envProps$access_key, \n",
    "    \"AWS_SECRET_ACCESS_KEY\" = envProps$secret_key,\n",
    "    \"AWS_DEFAULT_REGION\" = 'us-east-1')\n"
   ]
  },
  {
   "cell_type": "markdown",
   "id": "f3423ab3",
   "metadata": {},
   "source": [
    "Clear the workspace"
   ]
  },
  {
   "cell_type": "code",
   "execution_count": 2,
   "id": "402144b2",
   "metadata": {
    "tags": []
   },
   "outputs": [],
   "source": [
    "rm(list = ls())"
   ]
  },
  {
   "cell_type": "markdown",
   "id": "6c93e804",
   "metadata": {},
   "source": [
    "Installing and loading the packages needed for this notebook"
   ]
  },
  {
   "cell_type": "code",
   "execution_count": 3,
   "id": "51f3bad1",
   "metadata": {
    "message": false,
    "tags": [
     "remove_output"
    ]
   },
   "outputs": [
    {
     "name": "stderr",
     "output_type": "stream",
     "text": [
      "Updating HTML index of packages in '.Library'\n",
      "\n",
      "Making 'packages.html' ...\n",
      " done\n",
      "\n",
      "\n",
      "Attaching package: ‘dplyr’\n",
      "\n",
      "\n",
      "The following objects are masked from ‘package:stats’:\n",
      "\n",
      "    filter, lag\n",
      "\n",
      "\n",
      "The following objects are masked from ‘package:base’:\n",
      "\n",
      "    intersect, setdiff, setequal, union\n",
      "\n",
      "\n",
      "── \u001b[1mAttaching core tidyverse packages\u001b[22m ──────────────────────── tidyverse 2.0.0 ──\n",
      "\u001b[32m✔\u001b[39m \u001b[34mforcats  \u001b[39m 1.0.0     \u001b[32m✔\u001b[39m \u001b[34mtibble   \u001b[39m 3.2.1\n",
      "\u001b[32m✔\u001b[39m \u001b[34mlubridate\u001b[39m 1.9.3     \u001b[32m✔\u001b[39m \u001b[34mtidyr    \u001b[39m 1.3.1\n",
      "\u001b[32m✔\u001b[39m \u001b[34mpurrr    \u001b[39m 1.0.2     \n",
      "── \u001b[1mConflicts\u001b[22m ────────────────────────────────────────── tidyverse_conflicts() ──\n",
      "\u001b[31m✖\u001b[39m \u001b[34mdplyr\u001b[39m::\u001b[32mfilter()\u001b[39m masks \u001b[34mstats\u001b[39m::filter()\n",
      "\u001b[31m✖\u001b[39m \u001b[34mdplyr\u001b[39m::\u001b[32mlag()\u001b[39m    masks \u001b[34mstats\u001b[39m::lag()\n",
      "\u001b[36mℹ\u001b[39m Use the conflicted package (\u001b[3m\u001b[34m<http://conflicted.r-lib.org/>\u001b[39m\u001b[23m) to force all conflicts to become errors\n",
      "Loading required package: lattice\n",
      "\n",
      "\n",
      "Attaching package: ‘caret’\n",
      "\n",
      "\n",
      "The following object is masked from ‘package:purrr’:\n",
      "\n",
      "    lift\n",
      "\n",
      "\n",
      "The following objects are masked from ‘package:Metrics’:\n",
      "\n",
      "    precision, recall\n",
      "\n",
      "\n",
      "Type 'citation(\"pROC\")' for a citation.\n",
      "\n",
      "\n",
      "Attaching package: ‘pROC’\n",
      "\n",
      "\n",
      "The following object is masked from ‘package:Metrics’:\n",
      "\n",
      "    auc\n",
      "\n",
      "\n",
      "The following objects are masked from ‘package:stats’:\n",
      "\n",
      "    cov, smooth, var\n",
      "\n",
      "\n"
     ]
    }
   ],
   "source": [
    "if (!'Metrics' %in% installed.packages()) {install.packages(\"Metrics\")}\n",
    "if (!'tidyverse' %in% installed.packages()) {install.packages(\"tidyverse\")}\n",
    "if (!'caret' %in% installed.packages()) {install.packages(\"caret\")}\n",
    "\n",
    "suppressWarnings(library(reticulate))\n",
    "suppressWarnings(library(readr))\n",
    "suppressWarnings(library(ggplot2))\n",
    "suppressWarnings(library(dplyr))\n",
    "suppressWarnings(library(stringr))\n",
    "suppressWarnings(library(Metrics))\n",
    "suppressWarnings(library(tidyverse))\n",
    "suppressWarnings(library(caret))\n",
    "suppressWarnings(library(pROC))"
   ]
  },
  {
   "cell_type": "markdown",
   "id": "50b6484f",
   "metadata": {},
   "source": [
    "Next, loading the Reticulate library and import the SageMaker Python module. Reticulate provides interface to 'Python' modules, classes, and functions.\n",
    "\n",
    "Amazon SageMaker Python SDK is an open source library for training and deploying machine-learned models on Amazon SageMaker. With the SDK, you can train and deploy models using popular deep learning frameworks, algorithms provided by Amazon, or your own algorithms built into SageMaker-compatible Docker images. <https://sagemaker.readthedocs.io/en/stable/>"
   ]
  },
  {
   "cell_type": "code",
   "execution_count": 4,
   "id": "82a88b04",
   "metadata": {
    "tags": [
     "remove_output"
    ]
   },
   "outputs": [
    {
     "name": "stdout",
     "output_type": "stream",
     "text": [
      "[1] \"arn:aws:iam::482851446821:role/service-role/AmazonSageMaker-ExecutionRole-20230917T140007\"\n"
     ]
    }
   ],
   "source": [
    "library(reticulate)\n",
    "path_to_python <- system(\"which python\", intern = TRUE)\n",
    "use_python(path_to_python)\n",
    "\n",
    "sagemaker <- import('sagemaker')\n",
    "session <- sagemaker$Session()\n",
    "bucket <- session$default_bucket()\n",
    "role_arn <- sagemaker$get_execution_role()\n",
    "print(role_arn)"
   ]
  },
  {
   "cell_type": "markdown",
   "id": "c4e674e7",
   "metadata": {},
   "source": [
    "Reading the data file churn.txt. The data is for customer churn in a telecommunication organization (synthetic data). The goal is to predict whether a customer is going to churn or not."
   ]
  },
  {
   "cell_type": "code",
   "execution_count": 5,
   "id": "1dcc915a",
   "metadata": {
    "tags": []
   },
   "outputs": [
    {
     "data": {
      "text/html": [
       "'dataset/churn.txt'"
      ],
      "text/latex": [
       "'dataset/churn.txt'"
      ],
      "text/markdown": [
       "'dataset/churn.txt'"
      ],
      "text/plain": [
       "[1] \"dataset/churn.txt\""
      ]
     },
     "metadata": {},
     "output_type": "display_data"
    },
    {
     "data": {
      "text/html": [
       "<table class=\"dataframe\">\n",
       "<caption>A tibble: 6 × 21</caption>\n",
       "<thead>\n",
       "\t<tr><th scope=col>State</th><th scope=col>Account Length</th><th scope=col>Area Code</th><th scope=col>Phone</th><th scope=col>Int'l Plan</th><th scope=col>VMail Plan</th><th scope=col>VMail Message</th><th scope=col>Day Mins</th><th scope=col>Day Calls</th><th scope=col>Day Charge</th><th scope=col>⋯</th><th scope=col>Eve Calls</th><th scope=col>Eve Charge</th><th scope=col>Night Mins</th><th scope=col>Night Calls</th><th scope=col>Night Charge</th><th scope=col>Intl Mins</th><th scope=col>Intl Calls</th><th scope=col>Intl Charge</th><th scope=col>CustServ Calls</th><th scope=col>Churn?</th></tr>\n",
       "\t<tr><th scope=col>&lt;chr&gt;</th><th scope=col>&lt;dbl&gt;</th><th scope=col>&lt;dbl&gt;</th><th scope=col>&lt;chr&gt;</th><th scope=col>&lt;chr&gt;</th><th scope=col>&lt;chr&gt;</th><th scope=col>&lt;dbl&gt;</th><th scope=col>&lt;dbl&gt;</th><th scope=col>&lt;dbl&gt;</th><th scope=col>&lt;dbl&gt;</th><th scope=col>⋯</th><th scope=col>&lt;dbl&gt;</th><th scope=col>&lt;dbl&gt;</th><th scope=col>&lt;dbl&gt;</th><th scope=col>&lt;dbl&gt;</th><th scope=col>&lt;dbl&gt;</th><th scope=col>&lt;dbl&gt;</th><th scope=col>&lt;dbl&gt;</th><th scope=col>&lt;dbl&gt;</th><th scope=col>&lt;dbl&gt;</th><th scope=col>&lt;chr&gt;</th></tr>\n",
       "</thead>\n",
       "<tbody>\n",
       "\t<tr><td>PA</td><td>163</td><td>806</td><td>403-2562</td><td>no </td><td>yes</td><td>300</td><td> 8.162204</td><td>3</td><td>7.579174</td><td>⋯</td><td>4</td><td>6.508639</td><td>4.065759</td><td>100</td><td>5.111624</td><td>4.928160</td><td>6</td><td>5.673203</td><td>3</td><td>True. </td></tr>\n",
       "\t<tr><td>SC</td><td> 15</td><td>836</td><td>158-8416</td><td>yes</td><td>no </td><td>  0</td><td>10.018993</td><td>4</td><td>4.226289</td><td>⋯</td><td>0</td><td>9.972592</td><td>7.141040</td><td>200</td><td>6.436188</td><td>3.221748</td><td>6</td><td>2.559749</td><td>8</td><td>False.</td></tr>\n",
       "\t<tr><td>MO</td><td>131</td><td>777</td><td>896-6253</td><td>no </td><td>yes</td><td>300</td><td> 4.708490</td><td>3</td><td>4.768160</td><td>⋯</td><td>3</td><td>4.566715</td><td>5.363235</td><td>100</td><td>5.142451</td><td>7.139023</td><td>2</td><td>6.254157</td><td>4</td><td>False.</td></tr>\n",
       "\t<tr><td>WY</td><td> 75</td><td>878</td><td>817-5729</td><td>yes</td><td>yes</td><td>700</td><td> 1.268734</td><td>3</td><td>2.567642</td><td>⋯</td><td>5</td><td>2.333624</td><td>3.773586</td><td>450</td><td>3.814413</td><td>2.245779</td><td>6</td><td>1.080692</td><td>6</td><td>False.</td></tr>\n",
       "\t<tr><td>WY</td><td>146</td><td>878</td><td>450-4942</td><td>yes</td><td>no </td><td>  0</td><td> 2.696177</td><td>3</td><td>5.908916</td><td>⋯</td><td>3</td><td>3.670408</td><td>3.751673</td><td>250</td><td>2.796812</td><td>6.905545</td><td>4</td><td>7.134343</td><td>6</td><td>True. </td></tr>\n",
       "\t<tr><td>VA</td><td> 83</td><td>866</td><td>454-9110</td><td>no </td><td>no </td><td>  0</td><td> 3.634776</td><td>7</td><td>4.804892</td><td>⋯</td><td>5</td><td>5.278437</td><td>2.937880</td><td>300</td><td>4.817958</td><td>4.948816</td><td>4</td><td>5.135323</td><td>5</td><td>False.</td></tr>\n",
       "</tbody>\n",
       "</table>\n"
      ],
      "text/latex": [
       "A tibble: 6 × 21\n",
       "\\begin{tabular}{lllllllllllllllllllll}\n",
       " State & Account Length & Area Code & Phone & Int'l Plan & VMail Plan & VMail Message & Day Mins & Day Calls & Day Charge & ⋯ & Eve Calls & Eve Charge & Night Mins & Night Calls & Night Charge & Intl Mins & Intl Calls & Intl Charge & CustServ Calls & Churn?\\\\\n",
       " <chr> & <dbl> & <dbl> & <chr> & <chr> & <chr> & <dbl> & <dbl> & <dbl> & <dbl> & ⋯ & <dbl> & <dbl> & <dbl> & <dbl> & <dbl> & <dbl> & <dbl> & <dbl> & <dbl> & <chr>\\\\\n",
       "\\hline\n",
       "\t PA & 163 & 806 & 403-2562 & no  & yes & 300 &  8.162204 & 3 & 7.579174 & ⋯ & 4 & 6.508639 & 4.065759 & 100 & 5.111624 & 4.928160 & 6 & 5.673203 & 3 & True. \\\\\n",
       "\t SC &  15 & 836 & 158-8416 & yes & no  &   0 & 10.018993 & 4 & 4.226289 & ⋯ & 0 & 9.972592 & 7.141040 & 200 & 6.436188 & 3.221748 & 6 & 2.559749 & 8 & False.\\\\\n",
       "\t MO & 131 & 777 & 896-6253 & no  & yes & 300 &  4.708490 & 3 & 4.768160 & ⋯ & 3 & 4.566715 & 5.363235 & 100 & 5.142451 & 7.139023 & 2 & 6.254157 & 4 & False.\\\\\n",
       "\t WY &  75 & 878 & 817-5729 & yes & yes & 700 &  1.268734 & 3 & 2.567642 & ⋯ & 5 & 2.333624 & 3.773586 & 450 & 3.814413 & 2.245779 & 6 & 1.080692 & 6 & False.\\\\\n",
       "\t WY & 146 & 878 & 450-4942 & yes & no  &   0 &  2.696177 & 3 & 5.908916 & ⋯ & 3 & 3.670408 & 3.751673 & 250 & 2.796812 & 6.905545 & 4 & 7.134343 & 6 & True. \\\\\n",
       "\t VA &  83 & 866 & 454-9110 & no  & no  &   0 &  3.634776 & 7 & 4.804892 & ⋯ & 5 & 5.278437 & 2.937880 & 300 & 4.817958 & 4.948816 & 4 & 5.135323 & 5 & False.\\\\\n",
       "\\end{tabular}\n"
      ],
      "text/markdown": [
       "\n",
       "A tibble: 6 × 21\n",
       "\n",
       "| State &lt;chr&gt; | Account Length &lt;dbl&gt; | Area Code &lt;dbl&gt; | Phone &lt;chr&gt; | Int'l Plan &lt;chr&gt; | VMail Plan &lt;chr&gt; | VMail Message &lt;dbl&gt; | Day Mins &lt;dbl&gt; | Day Calls &lt;dbl&gt; | Day Charge &lt;dbl&gt; | ⋯ ⋯ | Eve Calls &lt;dbl&gt; | Eve Charge &lt;dbl&gt; | Night Mins &lt;dbl&gt; | Night Calls &lt;dbl&gt; | Night Charge &lt;dbl&gt; | Intl Mins &lt;dbl&gt; | Intl Calls &lt;dbl&gt; | Intl Charge &lt;dbl&gt; | CustServ Calls &lt;dbl&gt; | Churn? &lt;chr&gt; |\n",
       "|---|---|---|---|---|---|---|---|---|---|---|---|---|---|---|---|---|---|---|---|---|\n",
       "| PA | 163 | 806 | 403-2562 | no  | yes | 300 |  8.162204 | 3 | 7.579174 | ⋯ | 4 | 6.508639 | 4.065759 | 100 | 5.111624 | 4.928160 | 6 | 5.673203 | 3 | True.  |\n",
       "| SC |  15 | 836 | 158-8416 | yes | no  |   0 | 10.018993 | 4 | 4.226289 | ⋯ | 0 | 9.972592 | 7.141040 | 200 | 6.436188 | 3.221748 | 6 | 2.559749 | 8 | False. |\n",
       "| MO | 131 | 777 | 896-6253 | no  | yes | 300 |  4.708490 | 3 | 4.768160 | ⋯ | 3 | 4.566715 | 5.363235 | 100 | 5.142451 | 7.139023 | 2 | 6.254157 | 4 | False. |\n",
       "| WY |  75 | 878 | 817-5729 | yes | yes | 700 |  1.268734 | 3 | 2.567642 | ⋯ | 5 | 2.333624 | 3.773586 | 450 | 3.814413 | 2.245779 | 6 | 1.080692 | 6 | False. |\n",
       "| WY | 146 | 878 | 450-4942 | yes | no  |   0 |  2.696177 | 3 | 5.908916 | ⋯ | 3 | 3.670408 | 3.751673 | 250 | 2.796812 | 6.905545 | 4 | 7.134343 | 6 | True.  |\n",
       "| VA |  83 | 866 | 454-9110 | no  | no  |   0 |  3.634776 | 7 | 4.804892 | ⋯ | 5 | 5.278437 | 2.937880 | 300 | 4.817958 | 4.948816 | 4 | 5.135323 | 5 | False. |\n",
       "\n"
      ],
      "text/plain": [
       "  State Account Length Area Code Phone    Int'l Plan VMail Plan VMail Message\n",
       "1 PA    163            806       403-2562 no         yes        300          \n",
       "2 SC     15            836       158-8416 yes        no           0          \n",
       "3 MO    131            777       896-6253 no         yes        300          \n",
       "4 WY     75            878       817-5729 yes        yes        700          \n",
       "5 WY    146            878       450-4942 yes        no           0          \n",
       "6 VA     83            866       454-9110 no         no           0          \n",
       "  Day Mins  Day Calls Day Charge ⋯ Eve Calls Eve Charge Night Mins Night Calls\n",
       "1  8.162204 3         7.579174   ⋯ 4         6.508639   4.065759   100        \n",
       "2 10.018993 4         4.226289   ⋯ 0         9.972592   7.141040   200        \n",
       "3  4.708490 3         4.768160   ⋯ 3         4.566715   5.363235   100        \n",
       "4  1.268734 3         2.567642   ⋯ 5         2.333624   3.773586   450        \n",
       "5  2.696177 3         5.908916   ⋯ 3         3.670408   3.751673   250        \n",
       "6  3.634776 7         4.804892   ⋯ 5         5.278437   2.937880   300        \n",
       "  Night Charge Intl Mins Intl Calls Intl Charge CustServ Calls Churn?\n",
       "1 5.111624     4.928160  6          5.673203    3              True. \n",
       "2 6.436188     3.221748  6          2.559749    8              False.\n",
       "3 5.142451     7.139023  2          6.254157    4              False.\n",
       "4 3.814413     2.245779  6          1.080692    6              False.\n",
       "5 2.796812     6.905545  4          7.134343    6              True. \n",
       "6 4.817958     4.948816  4          5.135323    5              False."
      ]
     },
     "metadata": {},
     "output_type": "display_data"
    }
   ],
   "source": [
    "sagemaker$s3$S3Downloader$download(\"s3://sagemaker-sample-files/datasets/tabular/synthetic/churn.txt\", \"dataset\")\n",
    "churn <- read_csv(file = \"dataset/churn.txt\", col_names = TRUE, show_col_types = FALSE)\n",
    "head(churn)"
   ]
  },
  {
   "cell_type": "markdown",
   "id": "e418e82c",
   "metadata": {},
   "source": [
    "Carrying out various data preprocessing steps"
   ]
  },
  {
   "cell_type": "code",
   "execution_count": 6,
   "id": "f6da0824",
   "metadata": {
    "tags": []
   },
   "outputs": [],
   "source": [
    "#Transforming the categorical variables to dummy variables since Xgboost only takes numerical inputs for features\n",
    "#Now dropping certain columns that are redundant using dplyr's select method\n",
    "churn = select(churn, -c(\"Phone\", \"Day Charge\", \"Eve Charge\", \"Night Charge\", \"Intl Charge\"))\n",
    "\n",
    "churn <- rename(churn, \"intlplan\" = \"Int'l Plan\")\n",
    "churn <- rename(churn, \"churn\" = \"Churn?\")"
   ]
  },
  {
   "cell_type": "markdown",
   "id": "bb1919b3",
   "metadata": {},
   "source": [
    "Plotting international plan histogram as a function of target variable \"churn\" using ggplot2"
   ]
  },
  {
   "cell_type": "code",
   "execution_count": 7,
   "id": "f32fe77d",
   "metadata": {
    "tags": []
   },
   "outputs": [
    {
     "data": {
      "image/png": "[encoded data removed]",
      "text/plain": [
       "plot without title"
      ]
     },
     "metadata": {
      "image/png": {
       "height": 420,
       "width": 420
      }
     },
     "output_type": "display_data"
    }
   ],
   "source": [
    "ggplot(churn, aes(x = churn, fill = intlplan)) +  geom_bar() + theme_classic()"
   ]
  },
  {
   "cell_type": "markdown",
   "id": "344d70a7",
   "metadata": {},
   "source": [
    "Plotting histograms for customer service calls as a function of target variable (churn), using R's hist function"
   ]
  },
  {
   "cell_type": "code",
   "execution_count": 8,
   "id": "cfdf4cc6",
   "metadata": {
    "tags": []
   },
   "outputs": [
    {
     "data": {
      "image/png": "[encoded data removed]",
      "text/plain": [
       "Plot with title “Churn = True”"
      ]
     },
     "metadata": {
      "image/png": {
       "height": 420,
       "width": 420
      }
     },
     "output_type": "display_data"
    },
    {
     "data": {
      "image/png": "[encoded data removed]",
      "text/plain": [
       "Plot with title “Churn = False”"
      ]
     },
     "metadata": {
      "image/png": {
       "height": 420,
       "width": 420
      }
     },
     "output_type": "display_data"
    }
   ],
   "source": [
    "hist(churn$\"CustServ Calls\"[which(churn$churn == \"True.\")], col = 'red', breaks = 15, ylim = c(0,600), main = \"Churn = True\", xlab = \"Customer Service Calls\")\n",
    "hist(churn$\"CustServ Calls\"[which(churn$churn == \"False.\")], col = 'blue', breaks = 15, ylim = c(0,600),main = \"Churn = False\", xlab = \"Customer Service Calls\")"
   ]
  },
  {
   "cell_type": "markdown",
   "id": "4adcd4cc",
   "metadata": {},
   "source": [
    "Additional pre-processing steps"
   ]
  },
  {
   "cell_type": "code",
   "execution_count": 9,
   "id": "36a279e8",
   "metadata": {
    "tags": []
   },
   "outputs": [
    {
     "data": {
      "text/html": [
       "<table class=\"dataframe\">\n",
       "<caption>A tibble: 6 × 66</caption>\n",
       "<thead>\n",
       "\t<tr><th scope=col>churn</th><th scope=col>Account Length</th><th scope=col>Area Code</th><th scope=col>VMail Message</th><th scope=col>Day Mins</th><th scope=col>Day Calls</th><th scope=col>Eve Mins</th><th scope=col>Eve Calls</th><th scope=col>Night Mins</th><th scope=col>Night Calls</th><th scope=col>⋯</th><th scope=col>SD</th><th scope=col>TN</th><th scope=col>TX</th><th scope=col>UT</th><th scope=col>VA</th><th scope=col>VT</th><th scope=col>WA</th><th scope=col>WI</th><th scope=col>WV</th><th scope=col>WY</th></tr>\n",
       "\t<tr><th scope=col>&lt;dbl&gt;</th><th scope=col>&lt;dbl&gt;</th><th scope=col>&lt;dbl&gt;</th><th scope=col>&lt;dbl&gt;</th><th scope=col>&lt;dbl&gt;</th><th scope=col>&lt;dbl&gt;</th><th scope=col>&lt;dbl&gt;</th><th scope=col>&lt;dbl&gt;</th><th scope=col>&lt;dbl&gt;</th><th scope=col>&lt;dbl&gt;</th><th scope=col>⋯</th><th scope=col>&lt;dbl&gt;</th><th scope=col>&lt;dbl&gt;</th><th scope=col>&lt;dbl&gt;</th><th scope=col>&lt;dbl&gt;</th><th scope=col>&lt;dbl&gt;</th><th scope=col>&lt;dbl&gt;</th><th scope=col>&lt;dbl&gt;</th><th scope=col>&lt;dbl&gt;</th><th scope=col>&lt;dbl&gt;</th><th scope=col>&lt;dbl&gt;</th></tr>\n",
       "</thead>\n",
       "<tbody>\n",
       "\t<tr><td>1</td><td>163</td><td>806</td><td>300</td><td> 8.162204</td><td>3</td><td>3.933035</td><td>4</td><td>4.065759</td><td>100</td><td>⋯</td><td>0</td><td>0</td><td>0</td><td>0</td><td>0</td><td>0</td><td>0</td><td>0</td><td>0</td><td>0</td></tr>\n",
       "\t<tr><td>0</td><td> 15</td><td>836</td><td>  0</td><td>10.018993</td><td>4</td><td>2.325005</td><td>0</td><td>7.141040</td><td>200</td><td>⋯</td><td>0</td><td>0</td><td>0</td><td>0</td><td>0</td><td>0</td><td>0</td><td>0</td><td>0</td><td>0</td></tr>\n",
       "\t<tr><td>0</td><td>131</td><td>777</td><td>300</td><td> 4.708490</td><td>3</td><td>4.537466</td><td>3</td><td>5.363235</td><td>100</td><td>⋯</td><td>0</td><td>0</td><td>0</td><td>0</td><td>0</td><td>0</td><td>0</td><td>0</td><td>0</td><td>0</td></tr>\n",
       "\t<tr><td>0</td><td> 75</td><td>878</td><td>700</td><td> 1.268734</td><td>3</td><td>2.528748</td><td>5</td><td>3.773586</td><td>450</td><td>⋯</td><td>0</td><td>0</td><td>0</td><td>0</td><td>0</td><td>0</td><td>0</td><td>0</td><td>0</td><td>1</td></tr>\n",
       "\t<tr><td>1</td><td>146</td><td>878</td><td>  0</td><td> 2.696177</td><td>3</td><td>6.015337</td><td>3</td><td>3.751673</td><td>250</td><td>⋯</td><td>0</td><td>0</td><td>0</td><td>0</td><td>0</td><td>0</td><td>0</td><td>0</td><td>0</td><td>1</td></tr>\n",
       "\t<tr><td>0</td><td> 83</td><td>866</td><td>  0</td><td> 3.634776</td><td>7</td><td>6.051944</td><td>5</td><td>2.937880</td><td>300</td><td>⋯</td><td>0</td><td>0</td><td>0</td><td>0</td><td>1</td><td>0</td><td>0</td><td>0</td><td>0</td><td>0</td></tr>\n",
       "</tbody>\n",
       "</table>\n"
      ],
      "text/latex": [
       "A tibble: 6 × 66\n",
       "\\begin{tabular}{lllllllllllllllllllll}\n",
       " churn & Account Length & Area Code & VMail Message & Day Mins & Day Calls & Eve Mins & Eve Calls & Night Mins & Night Calls & ⋯ & SD & TN & TX & UT & VA & VT & WA & WI & WV & WY\\\\\n",
       " <dbl> & <dbl> & <dbl> & <dbl> & <dbl> & <dbl> & <dbl> & <dbl> & <dbl> & <dbl> & ⋯ & <dbl> & <dbl> & <dbl> & <dbl> & <dbl> & <dbl> & <dbl> & <dbl> & <dbl> & <dbl>\\\\\n",
       "\\hline\n",
       "\t 1 & 163 & 806 & 300 &  8.162204 & 3 & 3.933035 & 4 & 4.065759 & 100 & ⋯ & 0 & 0 & 0 & 0 & 0 & 0 & 0 & 0 & 0 & 0\\\\\n",
       "\t 0 &  15 & 836 &   0 & 10.018993 & 4 & 2.325005 & 0 & 7.141040 & 200 & ⋯ & 0 & 0 & 0 & 0 & 0 & 0 & 0 & 0 & 0 & 0\\\\\n",
       "\t 0 & 131 & 777 & 300 &  4.708490 & 3 & 4.537466 & 3 & 5.363235 & 100 & ⋯ & 0 & 0 & 0 & 0 & 0 & 0 & 0 & 0 & 0 & 0\\\\\n",
       "\t 0 &  75 & 878 & 700 &  1.268734 & 3 & 2.528748 & 5 & 3.773586 & 450 & ⋯ & 0 & 0 & 0 & 0 & 0 & 0 & 0 & 0 & 0 & 1\\\\\n",
       "\t 1 & 146 & 878 &   0 &  2.696177 & 3 & 6.015337 & 3 & 3.751673 & 250 & ⋯ & 0 & 0 & 0 & 0 & 0 & 0 & 0 & 0 & 0 & 1\\\\\n",
       "\t 0 &  83 & 866 &   0 &  3.634776 & 7 & 6.051944 & 5 & 2.937880 & 300 & ⋯ & 0 & 0 & 0 & 0 & 1 & 0 & 0 & 0 & 0 & 0\\\\\n",
       "\\end{tabular}\n"
      ],
      "text/markdown": [
       "\n",
       "A tibble: 6 × 66\n",
       "\n",
       "| churn &lt;dbl&gt; | Account Length &lt;dbl&gt; | Area Code &lt;dbl&gt; | VMail Message &lt;dbl&gt; | Day Mins &lt;dbl&gt; | Day Calls &lt;dbl&gt; | Eve Mins &lt;dbl&gt; | Eve Calls &lt;dbl&gt; | Night Mins &lt;dbl&gt; | Night Calls &lt;dbl&gt; | ⋯ ⋯ | SD &lt;dbl&gt; | TN &lt;dbl&gt; | TX &lt;dbl&gt; | UT &lt;dbl&gt; | VA &lt;dbl&gt; | VT &lt;dbl&gt; | WA &lt;dbl&gt; | WI &lt;dbl&gt; | WV &lt;dbl&gt; | WY &lt;dbl&gt; |\n",
       "|---|---|---|---|---|---|---|---|---|---|---|---|---|---|---|---|---|---|---|---|---|\n",
       "| 1 | 163 | 806 | 300 |  8.162204 | 3 | 3.933035 | 4 | 4.065759 | 100 | ⋯ | 0 | 0 | 0 | 0 | 0 | 0 | 0 | 0 | 0 | 0 |\n",
       "| 0 |  15 | 836 |   0 | 10.018993 | 4 | 2.325005 | 0 | 7.141040 | 200 | ⋯ | 0 | 0 | 0 | 0 | 0 | 0 | 0 | 0 | 0 | 0 |\n",
       "| 0 | 131 | 777 | 300 |  4.708490 | 3 | 4.537466 | 3 | 5.363235 | 100 | ⋯ | 0 | 0 | 0 | 0 | 0 | 0 | 0 | 0 | 0 | 0 |\n",
       "| 0 |  75 | 878 | 700 |  1.268734 | 3 | 2.528748 | 5 | 3.773586 | 450 | ⋯ | 0 | 0 | 0 | 0 | 0 | 0 | 0 | 0 | 0 | 1 |\n",
       "| 1 | 146 | 878 |   0 |  2.696177 | 3 | 6.015337 | 3 | 3.751673 | 250 | ⋯ | 0 | 0 | 0 | 0 | 0 | 0 | 0 | 0 | 0 | 1 |\n",
       "| 0 |  83 | 866 |   0 |  3.634776 | 7 | 6.051944 | 5 | 2.937880 | 300 | ⋯ | 0 | 0 | 0 | 0 | 1 | 0 | 0 | 0 | 0 | 0 |\n",
       "\n"
      ],
      "text/plain": [
       "  churn Account Length Area Code VMail Message Day Mins  Day Calls Eve Mins\n",
       "1 1     163            806       300            8.162204 3         3.933035\n",
       "2 0      15            836         0           10.018993 4         2.325005\n",
       "3 0     131            777       300            4.708490 3         4.537466\n",
       "4 0      75            878       700            1.268734 3         2.528748\n",
       "5 1     146            878         0            2.696177 3         6.015337\n",
       "6 0      83            866         0            3.634776 7         6.051944\n",
       "  Eve Calls Night Mins Night Calls ⋯ SD TN TX UT VA VT WA WI WV WY\n",
       "1 4         4.065759   100         ⋯ 0  0  0  0  0  0  0  0  0  0 \n",
       "2 0         7.141040   200         ⋯ 0  0  0  0  0  0  0  0  0  0 \n",
       "3 3         5.363235   100         ⋯ 0  0  0  0  0  0  0  0  0  0 \n",
       "4 5         3.773586   450         ⋯ 0  0  0  0  0  0  0  0  0  1 \n",
       "5 3         3.751673   250         ⋯ 0  0  0  0  0  0  0  0  0  1 \n",
       "6 5         2.937880   300         ⋯ 0  0  0  0  1  0  0  0  0  0 "
      ]
     },
     "metadata": {},
     "output_type": "display_data"
    }
   ],
   "source": [
    "#Changing target variable churn into dummy variable and keeping just True column while dropping False\n",
    "churn <- churn %>% mutate(dummy=1) %>% spread(key=\"churn\",value=dummy, fill=0)\n",
    "churn <- subset(churn, select = -c(False.))\n",
    "churn <- rename(churn, \"churn\" = True.)\n",
    "\n",
    "#Making the target variable \"churn\" as the first column as XGBoost expects the data to be in this format\n",
    "churn <- churn %>% select(\"churn\", everything())\n",
    "\n",
    "#Transforming intlplan (international plan) to dummy, dropping resulting \"no\" variable and renaming \"yes\" using dplyr's rename method\n",
    "churn <- churn %>% mutate(dummy=1) %>% spread(key=\"intlplan\",value=dummy, fill=0)\n",
    "churn <- subset(churn, select = -c(no))\n",
    "churn <- rename(churn, \"intlplan\" = yes)\n",
    "\n",
    "#Transforming VMaill plan to dummy, dropping resulting \"no\" variable and renaming \"yes\" using dplyr's rename method\n",
    "churn <- churn %>% mutate(dummy=1) %>% spread(key=\"VMail Plan\",value=dummy, fill=0)\n",
    "churn <- subset(churn, select = -c(no))\n",
    "churn <- rename(churn, \"VMail plan\" = yes)\n",
    "\n",
    "#Transforming variable \"State\" into dummy variables\n",
    "churn <- churn %>% mutate(dummy=1) %>% spread(key=\"State\",value=dummy, fill=0)\n",
    "head(churn)"
   ]
  },
  {
   "cell_type": "markdown",
   "id": "0a78522f",
   "metadata": {},
   "source": [
    "Dividing the dataset into train, validation and test datasets and writing the csv files in current directory"
   ]
  },
  {
   "cell_type": "code",
   "execution_count": 10,
   "id": "23433184",
   "metadata": {
    "tags": []
   },
   "outputs": [
    {
     "name": "stderr",
     "output_type": "stream",
     "text": [
      "\u001b[1m\u001b[22mJoining with `by = join_by(churn, `Account Length`, `Area Code`, `VMail\n",
      "Message`, `Day Mins`, `Day Calls`, `Eve Mins`, `Eve Calls`, `Night Mins`,\n",
      "`Night Calls`, `Intl Mins`, `Intl Calls`, `CustServ Calls`, intlplan, `VMail\n",
      "plan`, AK, AL, AR, AZ, CA, CO, CT, DC, DE, FL, GA, HI, IA, ID, IL, IN, KS, KY,\n",
      "LA, MA, MD, ME, MI, MN, MO, MS, MT, NC, ND, NE, NH, NJ, NM, NV, NY, OH, OK, OR,\n",
      "PA, RI, SC, SD, TN, TX, UT, VA, VT, WA, WI, WV, WY)`\n",
      "\u001b[1m\u001b[22mJoining with `by = join_by(churn, `Account Length`, `Area Code`, `VMail\n",
      "Message`, `Day Mins`, `Day Calls`, `Eve Mins`, `Eve Calls`, `Night Mins`,\n",
      "`Night Calls`, `Intl Mins`, `Intl Calls`, `CustServ Calls`, intlplan, `VMail\n",
      "plan`, AK, AL, AR, AZ, CA, CO, CT, DC, DE, FL, GA, HI, IA, ID, IL, IN, KS, KY,\n",
      "LA, MA, MD, ME, MI, MN, MO, MS, MT, NC, ND, NE, NH, NJ, NM, NV, NY, OH, OK, OR,\n",
      "PA, RI, SC, SD, TN, TX, UT, VA, VT, WA, WI, WV, WY)`\n"
     ]
    }
   ],
   "source": [
    "churn_train <- churn %>% sample_frac(size = 0.7)\n",
    "churn <- anti_join(churn, churn_train)\n",
    "churn_test <- churn %>% sample_frac(size = 0.5)\n",
    "churn_valid <- anti_join(churn, churn_test)\n",
    "\n",
    "write_csv(churn_train, 'dataset/churn_train.csv', col_names = FALSE)\n",
    "write_csv(churn_valid, 'dataset/churn_valid.csv', col_names = FALSE)\n",
    "# Remove target from test\n",
    "write_csv(churn_test[-1], 'dataset/churn_test.csv', col_names = FALSE)"
   ]
  },
  {
   "cell_type": "markdown",
   "id": "1a013aed",
   "metadata": {},
   "source": [
    "Writing the data to S3 bucket for the model training job"
   ]
  },
  {
   "cell_type": "code",
   "execution_count": 11,
   "id": "1b1c1126",
   "metadata": {
    "tags": []
   },
   "outputs": [],
   "source": [
    "s3_train <- session$upload_data(path = 'dataset/churn_train.csv', bucket = bucket, key_prefix = 'r_example/data')\n",
    "s3_valid <- session$upload_data(path = 'dataset/churn_valid.csv', bucket = bucket, key_prefix = 'r_example/data')\n",
    "s3_test <- session$upload_data(path = 'dataset/churn_test.csv',   bucket = bucket, key_prefix = 'r_example/data')"
   ]
  },
  {
   "cell_type": "markdown",
   "id": "db40b019",
   "metadata": {},
   "source": [
    "Specifying the training and validation data channels for model training"
   ]
  },
  {
   "cell_type": "code",
   "execution_count": 12,
   "id": "3683ea1b",
   "metadata": {
    "tags": []
   },
   "outputs": [],
   "source": [
    "s3_train_input <- sagemaker$inputs$TrainingInput(s3_data = s3_train, content_type = 'csv')\n",
    "s3_valid_input <- sagemaker$inputs$TrainingInput(s3_data = s3_valid, content_type = 'csv')\n",
    "input_data <- list('train' = s3_train_input, 'validation' = s3_valid_input)"
   ]
  },
  {
   "cell_type": "markdown",
   "id": "1e63e399",
   "metadata": {},
   "source": [
    "Using the SageMaker's builtin XGBoost model container for model training and the output path for model artifacts"
   ]
  },
  {
   "cell_type": "code",
   "execution_count": 13,
   "id": "38d86790",
   "metadata": {
    "tags": []
   },
   "outputs": [
    {
     "name": "stdout",
     "output_type": "stream",
     "text": [
      "XGBoost Container Image URL:  811284229777.dkr.ecr.us-east-1.amazonaws.com/xgboost:latest"
     ]
    }
   ],
   "source": [
    "container <- sagemaker$image_uris$retrieve(framework='xgboost', region= session$boto_region_name, version='latest')\n",
    "cat('XGBoost Container Image URL: ', container)\n",
    "s3_output <- paste0('s3://', bucket, '/r_example/output')"
   ]
  },
  {
   "cell_type": "markdown",
   "id": "14e9f87e",
   "metadata": {},
   "source": [
    "Specifying the number of instances and instance type to train the model on along with model image uri, role and input mode. Also setting up the training job as binary classification with objective metric as error."
   ]
  },
  {
   "cell_type": "code",
   "execution_count": 14,
   "id": "96717b12",
   "metadata": {
    "tags": []
   },
   "outputs": [],
   "source": [
    "estimator <- sagemaker$estimator$Estimator(image_uri = container,\n",
    "                                           role = role_arn,\n",
    "                                           instance_count = 1L,\n",
    "                                           instance_type = 'ml.m5.xlarge',\n",
    "                                           input_mode = 'File',\n",
    "                                           output_path = s3_output)\n",
    "estimator$set_hyperparameters(eval_metric='error',\n",
    "                              objective='binary:logistic',\n",
    "                              num_round=100L)"
   ]
  },
  {
   "cell_type": "markdown",
   "id": "d0cded74",
   "metadata": {},
   "source": [
    "Starting the model training job"
   ]
  },
  {
   "cell_type": "code",
   "execution_count": 15,
   "id": "c01af685",
   "metadata": {
    "tags": []
   },
   "outputs": [],
   "source": [
    "estimator$fit(inputs = input_data, wait=TRUE, logs=TRUE)"
   ]
  },
  {
   "cell_type": "markdown",
   "id": "4283780d",
   "metadata": {},
   "source": [
    "Deploying our trained model as a SageMaker endpoint and setting up the serializer for correct data format for the endpoint"
   ]
  },
  {
   "cell_type": "code",
   "execution_count": 16,
   "id": "40474330",
   "metadata": {
    "tags": []
   },
   "outputs": [],
   "source": [
    "model_endpoint <- estimator$deploy(initial_instance_count=1L, instance_type='ml.m4.xlarge')\n",
    "model_endpoint$serializer <- sagemaker$serializers$CSVSerializer(content_type='text/csv')"
   ]
  },
  {
   "cell_type": "markdown",
   "id": "5942c278",
   "metadata": {},
   "source": [
    "Sending the test data (that we set aside earlier) to the endpoint and adding the returned predictions to the test data set for comparison"
   ]
  },
  {
   "cell_type": "code",
   "execution_count": 17,
   "id": "47066ade",
   "metadata": {
    "tags": []
   },
   "outputs": [
    {
     "data": {
      "text/html": [
       "<table class=\"dataframe\">\n",
       "<caption>A data.frame: 6 × 67</caption>\n",
       "<thead>\n",
       "\t<tr><th></th><th scope=col>predicted_churn</th><th scope=col>churn</th><th scope=col>Account Length</th><th scope=col>Area Code</th><th scope=col>VMail Message</th><th scope=col>Day Mins</th><th scope=col>Day Calls</th><th scope=col>Eve Mins</th><th scope=col>Eve Calls</th><th scope=col>Night Mins</th><th scope=col>⋯</th><th scope=col>SD</th><th scope=col>TN</th><th scope=col>TX</th><th scope=col>UT</th><th scope=col>VA</th><th scope=col>VT</th><th scope=col>WA</th><th scope=col>WI</th><th scope=col>WV</th><th scope=col>WY</th></tr>\n",
       "\t<tr><th></th><th scope=col>&lt;dbl&gt;</th><th scope=col>&lt;dbl&gt;</th><th scope=col>&lt;dbl&gt;</th><th scope=col>&lt;dbl&gt;</th><th scope=col>&lt;dbl&gt;</th><th scope=col>&lt;dbl&gt;</th><th scope=col>&lt;dbl&gt;</th><th scope=col>&lt;dbl&gt;</th><th scope=col>&lt;dbl&gt;</th><th scope=col>&lt;dbl&gt;</th><th scope=col>⋯</th><th scope=col>&lt;dbl&gt;</th><th scope=col>&lt;dbl&gt;</th><th scope=col>&lt;dbl&gt;</th><th scope=col>&lt;dbl&gt;</th><th scope=col>&lt;dbl&gt;</th><th scope=col>&lt;dbl&gt;</th><th scope=col>&lt;dbl&gt;</th><th scope=col>&lt;dbl&gt;</th><th scope=col>&lt;dbl&gt;</th><th scope=col>&lt;dbl&gt;</th></tr>\n",
       "</thead>\n",
       "<tbody>\n",
       "\t<tr><th scope=row>1</th><td>0.9999464750</td><td>1</td><td>100</td><td>876</td><td>  0</td><td>12.5386434</td><td>6</td><td>5.700780</td><td>3</td><td>5.8198698</td><td>⋯</td><td>0</td><td>0</td><td>0</td><td>0</td><td>0</td><td>0</td><td>1</td><td>0</td><td>0</td><td>0</td></tr>\n",
       "\t<tr><th scope=row>2</th><td>0.9994718432</td><td>1</td><td>  1</td><td>659</td><td>400</td><td>10.1861929</td><td>1</td><td>8.077397</td><td>2</td><td>3.3387298</td><td>⋯</td><td>0</td><td>0</td><td>0</td><td>0</td><td>0</td><td>0</td><td>0</td><td>0</td><td>0</td><td>0</td></tr>\n",
       "\t<tr><th scope=row>3</th><td>0.0007475149</td><td>0</td><td> 81</td><td>797</td><td>400</td><td> 4.8537808</td><td>3</td><td>2.068643</td><td>4</td><td>2.8385175</td><td>⋯</td><td>0</td><td>0</td><td>0</td><td>0</td><td>0</td><td>0</td><td>0</td><td>0</td><td>0</td><td>0</td></tr>\n",
       "\t<tr><th scope=row>4</th><td>0.9720940590</td><td>0</td><td>  3</td><td>777</td><td>700</td><td> 4.0513220</td><td>3</td><td>6.320208</td><td>1</td><td>3.0909433</td><td>⋯</td><td>0</td><td>0</td><td>0</td><td>0</td><td>0</td><td>0</td><td>0</td><td>0</td><td>0</td><td>0</td></tr>\n",
       "\t<tr><th scope=row>5</th><td>0.9782603383</td><td>1</td><td>191</td><td>787</td><td>  0</td><td> 8.2974284</td><td>3</td><td>4.700151</td><td>1</td><td>4.2691875</td><td>⋯</td><td>0</td><td>0</td><td>0</td><td>0</td><td>0</td><td>0</td><td>0</td><td>0</td><td>0</td><td>0</td></tr>\n",
       "\t<tr><th scope=row>6</th><td>0.0007806505</td><td>0</td><td> 62</td><td>806</td><td>700</td><td> 0.3726074</td><td>2</td><td>3.202331</td><td>1</td><td>0.9369399</td><td>⋯</td><td>0</td><td>0</td><td>0</td><td>0</td><td>0</td><td>0</td><td>0</td><td>0</td><td>0</td><td>0</td></tr>\n",
       "</tbody>\n",
       "</table>\n"
      ],
      "text/latex": [
       "A data.frame: 6 × 67\n",
       "\\begin{tabular}{r|lllllllllllllllllllll}\n",
       "  & predicted\\_churn & churn & Account Length & Area Code & VMail Message & Day Mins & Day Calls & Eve Mins & Eve Calls & Night Mins & ⋯ & SD & TN & TX & UT & VA & VT & WA & WI & WV & WY\\\\\n",
       "  & <dbl> & <dbl> & <dbl> & <dbl> & <dbl> & <dbl> & <dbl> & <dbl> & <dbl> & <dbl> & ⋯ & <dbl> & <dbl> & <dbl> & <dbl> & <dbl> & <dbl> & <dbl> & <dbl> & <dbl> & <dbl>\\\\\n",
       "\\hline\n",
       "\t1 & 0.9999464750 & 1 & 100 & 876 &   0 & 12.5386434 & 6 & 5.700780 & 3 & 5.8198698 & ⋯ & 0 & 0 & 0 & 0 & 0 & 0 & 1 & 0 & 0 & 0\\\\\n",
       "\t2 & 0.9994718432 & 1 &   1 & 659 & 400 & 10.1861929 & 1 & 8.077397 & 2 & 3.3387298 & ⋯ & 0 & 0 & 0 & 0 & 0 & 0 & 0 & 0 & 0 & 0\\\\\n",
       "\t3 & 0.0007475149 & 0 &  81 & 797 & 400 &  4.8537808 & 3 & 2.068643 & 4 & 2.8385175 & ⋯ & 0 & 0 & 0 & 0 & 0 & 0 & 0 & 0 & 0 & 0\\\\\n",
       "\t4 & 0.9720940590 & 0 &   3 & 777 & 700 &  4.0513220 & 3 & 6.320208 & 1 & 3.0909433 & ⋯ & 0 & 0 & 0 & 0 & 0 & 0 & 0 & 0 & 0 & 0\\\\\n",
       "\t5 & 0.9782603383 & 1 & 191 & 787 &   0 &  8.2974284 & 3 & 4.700151 & 1 & 4.2691875 & ⋯ & 0 & 0 & 0 & 0 & 0 & 0 & 0 & 0 & 0 & 0\\\\\n",
       "\t6 & 0.0007806505 & 0 &  62 & 806 & 700 &  0.3726074 & 2 & 3.202331 & 1 & 0.9369399 & ⋯ & 0 & 0 & 0 & 0 & 0 & 0 & 0 & 0 & 0 & 0\\\\\n",
       "\\end{tabular}\n"
      ],
      "text/markdown": [
       "\n",
       "A data.frame: 6 × 67\n",
       "\n",
       "| <!--/--> | predicted_churn &lt;dbl&gt; | churn &lt;dbl&gt; | Account Length &lt;dbl&gt; | Area Code &lt;dbl&gt; | VMail Message &lt;dbl&gt; | Day Mins &lt;dbl&gt; | Day Calls &lt;dbl&gt; | Eve Mins &lt;dbl&gt; | Eve Calls &lt;dbl&gt; | Night Mins &lt;dbl&gt; | ⋯ ⋯ | SD &lt;dbl&gt; | TN &lt;dbl&gt; | TX &lt;dbl&gt; | UT &lt;dbl&gt; | VA &lt;dbl&gt; | VT &lt;dbl&gt; | WA &lt;dbl&gt; | WI &lt;dbl&gt; | WV &lt;dbl&gt; | WY &lt;dbl&gt; |\n",
       "|---|---|---|---|---|---|---|---|---|---|---|---|---|---|---|---|---|---|---|---|---|---|\n",
       "| 1 | 0.9999464750 | 1 | 100 | 876 |   0 | 12.5386434 | 6 | 5.700780 | 3 | 5.8198698 | ⋯ | 0 | 0 | 0 | 0 | 0 | 0 | 1 | 0 | 0 | 0 |\n",
       "| 2 | 0.9994718432 | 1 |   1 | 659 | 400 | 10.1861929 | 1 | 8.077397 | 2 | 3.3387298 | ⋯ | 0 | 0 | 0 | 0 | 0 | 0 | 0 | 0 | 0 | 0 |\n",
       "| 3 | 0.0007475149 | 0 |  81 | 797 | 400 |  4.8537808 | 3 | 2.068643 | 4 | 2.8385175 | ⋯ | 0 | 0 | 0 | 0 | 0 | 0 | 0 | 0 | 0 | 0 |\n",
       "| 4 | 0.9720940590 | 0 |   3 | 777 | 700 |  4.0513220 | 3 | 6.320208 | 1 | 3.0909433 | ⋯ | 0 | 0 | 0 | 0 | 0 | 0 | 0 | 0 | 0 | 0 |\n",
       "| 5 | 0.9782603383 | 1 | 191 | 787 |   0 |  8.2974284 | 3 | 4.700151 | 1 | 4.2691875 | ⋯ | 0 | 0 | 0 | 0 | 0 | 0 | 0 | 0 | 0 | 0 |\n",
       "| 6 | 0.0007806505 | 0 |  62 | 806 | 700 |  0.3726074 | 2 | 3.202331 | 1 | 0.9369399 | ⋯ | 0 | 0 | 0 | 0 | 0 | 0 | 0 | 0 | 0 | 0 |\n",
       "\n"
      ],
      "text/plain": [
       "  predicted_churn churn Account Length Area Code VMail Message Day Mins  \n",
       "1 0.9999464750    1     100            876         0           12.5386434\n",
       "2 0.9994718432    1       1            659       400           10.1861929\n",
       "3 0.0007475149    0      81            797       400            4.8537808\n",
       "4 0.9720940590    0       3            777       700            4.0513220\n",
       "5 0.9782603383    1     191            787         0            8.2974284\n",
       "6 0.0007806505    0      62            806       700            0.3726074\n",
       "  Day Calls Eve Mins Eve Calls Night Mins ⋯ SD TN TX UT VA VT WA WI WV WY\n",
       "1 6         5.700780 3         5.8198698  ⋯ 0  0  0  0  0  0  1  0  0  0 \n",
       "2 1         8.077397 2         3.3387298  ⋯ 0  0  0  0  0  0  0  0  0  0 \n",
       "3 3         2.068643 4         2.8385175  ⋯ 0  0  0  0  0  0  0  0  0  0 \n",
       "4 3         6.320208 1         3.0909433  ⋯ 0  0  0  0  0  0  0  0  0  0 \n",
       "5 3         4.700151 1         4.2691875  ⋯ 0  0  0  0  0  0  0  0  0  0 \n",
       "6 2         3.202331 1         0.9369399  ⋯ 0  0  0  0  0  0  0  0  0  0 "
      ]
     },
     "metadata": {},
     "output_type": "display_data"
    }
   ],
   "source": [
    "test_sample <- as.matrix(churn_test[-1])\n",
    "dimnames(test_sample)[[2]] <- NULL\n",
    "predictions_ep <- model_endpoint$predict(test_sample)\n",
    "predictions_ep <- as.character(predictions_ep)\n",
    "predictions_ep <- str_split(predictions_ep, pattern = ',', simplify = TRUE)\n",
    "predictions_ep <- as.numeric(unlist(predictions_ep))\n",
    "\n",
    "churn_predictions_ep <- cbind(predicted_churn = predictions_ep, churn_test)\n",
    "\n",
    "head(churn_predictions_ep)"
   ]
  },
  {
   "cell_type": "markdown",
   "id": "3e8359e9",
   "metadata": {},
   "source": [
    "Displaying the confusion matrix and additional metrics when using 0.5 as the threshold for binary prediction"
   ]
  },
  {
   "cell_type": "code",
   "execution_count": 18,
   "id": "4a960a4a",
   "metadata": {
    "tags": []
   },
   "outputs": [
    {
     "data": {
      "text/plain": [
       "Confusion Matrix and Statistics\n",
       "\n",
       "          Reference\n",
       "Prediction   0   1\n",
       "         0 364  23\n",
       "         1  22 341\n",
       "                                          \n",
       "               Accuracy : 0.94            \n",
       "                 95% CI : (0.9205, 0.9559)\n",
       "    No Information Rate : 0.5147          \n",
       "    P-Value [Acc > NIR] : <2e-16          \n",
       "                                          \n",
       "                  Kappa : 0.8799          \n",
       "                                          \n",
       " Mcnemar's Test P-Value : 1               \n",
       "                                          \n",
       "            Sensitivity : 0.9430          \n",
       "            Specificity : 0.9368          \n",
       "         Pos Pred Value : 0.9406          \n",
       "         Neg Pred Value : 0.9394          \n",
       "             Prevalence : 0.5147          \n",
       "         Detection Rate : 0.4853          \n",
       "   Detection Prevalence : 0.5160          \n",
       "      Balanced Accuracy : 0.9399          \n",
       "                                          \n",
       "       'Positive' Class : 0               \n",
       "                                          "
      ]
     },
     "metadata": {},
     "output_type": "display_data"
    }
   ],
   "source": [
    "confusionMatrix(as.factor(churn_predictions_ep$churn), as.factor(round(churn_predictions_ep$predicted_churn)))"
   ]
  },
  {
   "cell_type": "markdown",
   "id": "0ac455eb",
   "metadata": {},
   "source": [
    "Plotting the ROC curve"
   ]
  },
  {
   "cell_type": "code",
   "execution_count": 19,
   "id": "674259d5",
   "metadata": {
    "tags": []
   },
   "outputs": [
    {
     "name": "stderr",
     "output_type": "stream",
     "text": [
      "Setting levels: control = 0, case = 1\n",
      "\n",
      "Setting direction: controls < cases\n",
      "\n"
     ]
    },
    {
     "data": {
      "image/png": "[encoded data removed]",
      "text/plain": [
       "plot without title"
      ]
     },
     "metadata": {
      "image/png": {
       "height": 420,
       "width": 420
      }
     },
     "output_type": "display_data"
    }
   ],
   "source": [
    "roc_churn <- roc(churn_predictions_ep$churn, churn_predictions_ep$predicted_churn)\n",
    "auc_churn <- roc_churn$auc\n",
    "\n",
    "# Creating ROC plot\n",
    "ggroc(roc_churn, colour = 'red', size = 1.3) + ggtitle(paste0('Receiver Operating Characteristics (ROC) Curve ', '(AUC = ', round(auc_churn, digits = 3), ')'))"
   ]
  },
  {
   "cell_type": "markdown",
   "id": "6c716ba3",
   "metadata": {},
   "source": [
    "Delete the endpoint when done"
   ]
  },
  {
   "cell_type": "code",
   "execution_count": 20,
   "id": "5e96c8af",
   "metadata": {
    "tags": []
   },
   "outputs": [],
   "source": [
    "model_endpoint$delete_endpoint(delete_endpoint_config=TRUE)"
   ]
  },
  {
   "cell_type": "code",
   "execution_count": null,
   "id": "e942b95d-ce90-41dd-a141-edc2aa767bfd",
   "metadata": {},
   "outputs": [],
   "source": []
  }
 ],
 "metadata": {
  "jupytext": {
   "cell_metadata_filter": "tags,message,-all",
   "main_language": "R",
   "notebook_metadata_filter": "-all"
  },
  "kernelspec": {
   "display_name": "R",
   "language": "R",
   "name": "ir"
  },
  "language_info": {
   "codemirror_mode": "r",
   "file_extension": ".r",
   "mimetype": "text/x-r-source",
   "name": "R",
   "pygments_lexer": "r",
   "version": "4.3.3"
  }
 },
 "nbformat": 4,
 "nbformat_minor": 5
}
