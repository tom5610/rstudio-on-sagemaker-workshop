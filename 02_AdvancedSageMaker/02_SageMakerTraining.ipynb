{
 "cells": [
  {
   "cell_type": "raw",
   "id": "81f1ee45",
   "metadata": {},
   "source": [
    "---\n",
    "title: \"SageMaker Training\"\n",
    "output: rmarkdown::github_document\n",
    "knit: (function(inputFile, encoding) {\n",
    "  rmarkdown::render(inputFile, encoding = encoding, output_dir = \"rendered\") })\n",
    "---"
   ]
  },
  {
   "cell_type": "code",
   "execution_count": 1,
   "id": "92e0c144-e475-412a-9d21-1d75660d7de0",
   "metadata": {
    "tags": []
   },
   "outputs": [
    {
     "name": "stderr",
     "output_type": "stream",
     "text": [
      "Updating HTML index of packages in '.Library'\n",
      "\n",
      "Making 'packages.html' ...\n",
      " done\n",
      "\n",
      "Warning message in readLines(file):\n",
      "“incomplete final line found on '../env.properties'”\n"
     ]
    }
   ],
   "source": [
    "install.packages(\"properties\")\n",
    "library(properties)\n",
    "\n",
    "envProps <- read.properties(\"../env.properties\")\n",
    "\n",
    "Sys.setenv(\n",
    "    \"AWS_ACCESS_KEY_ID\" = envProps$access_key, \n",
    "    \"AWS_SECRET_ACCESS_KEY\" = envProps$secret_key,\n",
    "    \"AWS_DEFAULT_REGION\" = 'us-east-1')\n"
   ]
  },
  {
   "cell_type": "markdown",
   "id": "7f16e628",
   "metadata": {
    "lines_to_next_cell": 0
   },
   "source": [
    "## SageMaker Training\n",
    "\n",
    "Clear the workspace"
   ]
  },
  {
   "cell_type": "code",
   "execution_count": 2,
   "id": "5df907c8",
   "metadata": {
    "tags": []
   },
   "outputs": [],
   "source": [
    "rm(list = ls())"
   ]
  },
  {
   "cell_type": "code",
   "execution_count": null,
   "id": "6220d98b",
   "metadata": {
    "tags": [
     "remove_output"
    ]
   },
   "outputs": [],
   "source": [
    "# %%bash\n",
    "# python -m pip install -U sagemaker"
   ]
  },
  {
   "cell_type": "markdown",
   "id": "81b05ba2",
   "metadata": {
    "lines_to_next_cell": 0
   },
   "source": [
    "## Imports"
   ]
  },
  {
   "cell_type": "code",
   "execution_count": 3,
   "id": "5b1aab85",
   "metadata": {
    "tags": []
   },
   "outputs": [],
   "source": [
    "suppressWarnings(library(reticulate))\n",
    "path_to_python <- system(\"which python\", intern = TRUE)\n",
    "use_python(path_to_python)\n",
    "sagemaker <- import('sagemaker')\n",
    "\n",
    "role = sagemaker$get_execution_role()\n",
    "session = sagemaker$Session()\n",
    "s3_output = paste(\"s3://\", session$default_bucket(), sep=\"\")\n",
    "bucket <- session$default_bucket()\n",
    "\n",
    "account_id <- session$account_id()\n",
    "region <- session$boto_region_name"
   ]
  },
  {
   "cell_type": "code",
   "execution_count": 4,
   "id": "51756f93",
   "metadata": {
    "tags": []
   },
   "outputs": [
    {
     "data": {
      "text/html": [
       "'dataset/iris.data'"
      ],
      "text/latex": [
       "'dataset/iris.data'"
      ],
      "text/markdown": [
       "'dataset/iris.data'"
      ],
      "text/plain": [
       "[1] \"dataset/iris.data\""
      ]
     },
     "metadata": {},
     "output_type": "display_data"
    }
   ],
   "source": [
    "sagemaker$s3$S3Downloader$download(\"s3://sagemaker-sample-files/datasets/tabular/iris/iris.data\",\"dataset\")\n",
    "\n",
    "data <- civit_gps <- read.csv(file=\"dataset/iris.data\",head=FALSE,sep=\",\")\n",
    "newheaders <- c(\"Sepal.Length\", \"Sepal.Width\", \"Petal.Length\", \"Petal.Width\", \"Species\")\n",
    "colnames(data) <- newheaders\n",
    "write.csv(data, \"dataset/iris.data\", row.names = FALSE)\n",
    "\n",
    "\n",
    "s3_train <- session$upload_data(path = 'dataset/iris.data',\n",
    "                                bucket = bucket,\n",
    "                                key_prefix = 'data')"
   ]
  },
  {
   "cell_type": "code",
   "execution_count": 5,
   "id": "2b4507c1",
   "metadata": {
    "tags": []
   },
   "outputs": [
    {
     "data": {
      "text/html": [
       "<table class=\"dataframe\">\n",
       "<caption>A data.frame: 6 × 5</caption>\n",
       "<thead>\n",
       "\t<tr><th></th><th scope=col>Sepal.Length</th><th scope=col>Sepal.Width</th><th scope=col>Petal.Length</th><th scope=col>Petal.Width</th><th scope=col>Species</th></tr>\n",
       "\t<tr><th></th><th scope=col>&lt;dbl&gt;</th><th scope=col>&lt;dbl&gt;</th><th scope=col>&lt;dbl&gt;</th><th scope=col>&lt;dbl&gt;</th><th scope=col>&lt;chr&gt;</th></tr>\n",
       "</thead>\n",
       "<tbody>\n",
       "\t<tr><th scope=row>1</th><td>5.1</td><td>3.5</td><td>1.4</td><td>0.2</td><td>Iris-setosa</td></tr>\n",
       "\t<tr><th scope=row>2</th><td>4.9</td><td>3.0</td><td>1.4</td><td>0.2</td><td>Iris-setosa</td></tr>\n",
       "\t<tr><th scope=row>3</th><td>4.7</td><td>3.2</td><td>1.3</td><td>0.2</td><td>Iris-setosa</td></tr>\n",
       "\t<tr><th scope=row>4</th><td>4.6</td><td>3.1</td><td>1.5</td><td>0.2</td><td>Iris-setosa</td></tr>\n",
       "\t<tr><th scope=row>5</th><td>5.0</td><td>3.6</td><td>1.4</td><td>0.2</td><td>Iris-setosa</td></tr>\n",
       "\t<tr><th scope=row>6</th><td>5.4</td><td>3.9</td><td>1.7</td><td>0.4</td><td>Iris-setosa</td></tr>\n",
       "</tbody>\n",
       "</table>\n"
      ],
      "text/latex": [
       "A data.frame: 6 × 5\n",
       "\\begin{tabular}{r|lllll}\n",
       "  & Sepal.Length & Sepal.Width & Petal.Length & Petal.Width & Species\\\\\n",
       "  & <dbl> & <dbl> & <dbl> & <dbl> & <chr>\\\\\n",
       "\\hline\n",
       "\t1 & 5.1 & 3.5 & 1.4 & 0.2 & Iris-setosa\\\\\n",
       "\t2 & 4.9 & 3.0 & 1.4 & 0.2 & Iris-setosa\\\\\n",
       "\t3 & 4.7 & 3.2 & 1.3 & 0.2 & Iris-setosa\\\\\n",
       "\t4 & 4.6 & 3.1 & 1.5 & 0.2 & Iris-setosa\\\\\n",
       "\t5 & 5.0 & 3.6 & 1.4 & 0.2 & Iris-setosa\\\\\n",
       "\t6 & 5.4 & 3.9 & 1.7 & 0.4 & Iris-setosa\\\\\n",
       "\\end{tabular}\n"
      ],
      "text/markdown": [
       "\n",
       "A data.frame: 6 × 5\n",
       "\n",
       "| <!--/--> | Sepal.Length &lt;dbl&gt; | Sepal.Width &lt;dbl&gt; | Petal.Length &lt;dbl&gt; | Petal.Width &lt;dbl&gt; | Species &lt;chr&gt; |\n",
       "|---|---|---|---|---|---|\n",
       "| 1 | 5.1 | 3.5 | 1.4 | 0.2 | Iris-setosa |\n",
       "| 2 | 4.9 | 3.0 | 1.4 | 0.2 | Iris-setosa |\n",
       "| 3 | 4.7 | 3.2 | 1.3 | 0.2 | Iris-setosa |\n",
       "| 4 | 4.6 | 3.1 | 1.5 | 0.2 | Iris-setosa |\n",
       "| 5 | 5.0 | 3.6 | 1.4 | 0.2 | Iris-setosa |\n",
       "| 6 | 5.4 | 3.9 | 1.7 | 0.4 | Iris-setosa |\n",
       "\n"
      ],
      "text/plain": [
       "  Sepal.Length Sepal.Width Petal.Length Petal.Width Species    \n",
       "1 5.1          3.5         1.4          0.2         Iris-setosa\n",
       "2 4.9          3.0         1.4          0.2         Iris-setosa\n",
       "3 4.7          3.2         1.3          0.2         Iris-setosa\n",
       "4 4.6          3.1         1.5          0.2         Iris-setosa\n",
       "5 5.0          3.6         1.4          0.2         Iris-setosa\n",
       "6 5.4          3.9         1.7          0.4         Iris-setosa"
      ]
     },
     "metadata": {},
     "output_type": "display_data"
    }
   ],
   "source": [
    "head(data)"
   ]
  },
  {
   "cell_type": "code",
   "execution_count": 6,
   "id": "d765a9fd",
   "metadata": {
    "tags": []
   },
   "outputs": [],
   "source": [
    "container_uri <- paste(account_id, \"dkr.ecr\", region, \"amazonaws.com/sagemaker-r-training:1.0\", sep=\".\")\n",
    "\n",
    "# https://docs.aws.amazon.com/sagemaker/latest/dg/your-algorithms-training-algo-dockerfile.html\n",
    "# Estimator\n",
    "estimator <- sagemaker$estimator$Estimator(image_uri = container_uri,\n",
    "                                           base_job_name=\"train-iris-mars\",\n",
    "                                           entry_point = \"training.R\",\n",
    "                                           role = role,\n",
    "                                           metric_definitions = list(list(\"Name\" = \"mse\", \"Regex\" = \"mse: ([0-9\\\\.]+)\")),\n",
    "                                           instance_count = 1L,\n",
    "                                           instance_type = 'ml.m5.4xlarge',\n",
    "                                           volume_size = 30L,\n",
    "                                           max_run = 3600L,\n",
    "                                           input_mode = 'File')"
   ]
  },
  {
   "cell_type": "code",
   "execution_count": 7,
   "id": "bf52fcbd",
   "metadata": {
    "lines_to_next_cell": 2,
    "tags": []
   },
   "outputs": [
    {
     "ename": "ERROR",
     "evalue": "Error for Training job train-iris-mars-2024-07-23-01-37-33-567: Failed. Reason: AlgorithmError: , exit code: 1",
     "output_type": "error",
     "traceback": [
      "Error for Training job train-iris-mars-2024-07-23-01-37-33-567: Failed. Reason: AlgorithmError: , exit code: 1Traceback:\n",
      "1. estimator$fit(inputs = list(train = s3_train_input), logs = TRUE)",
      "2. py_call_impl(callable, call_args$unnamed, call_args$named)"
     ]
    }
   ],
   "source": [
    "# Train the estimator\n",
    "s3_train_input <- sagemaker$inputs$TrainingInput(s3_data = s3_train,\n",
    "                                     content_type = 'csv')\n",
    "estimator$fit(inputs=list(\"train\" = s3_train_input), logs=TRUE)"
   ]
  },
  {
   "cell_type": "code",
   "execution_count": null,
   "id": "aac9ddec",
   "metadata": {
    "tags": []
   },
   "outputs": [],
   "source": [
    "hyperparameter_ranges = list('thresh' = sagemaker$parameter$ContinuousParameter(0.001, 0.01),\n",
    "                             'prune'= sagemaker$parameter$CategoricalParameter(list(TRUE, FALSE)))\n",
    "\n",
    "objective_metric_name = \"mse\"\n",
    "metric_definitions = list(list(\"Name\" = \"mse\", \"Regex\" = \"mse: ([0-9\\\\.]+)\"))\n",
    "\n",
    "# Create a hyperparameter tuner\n",
    "tuner <- sagemaker$tuner$HyperparameterTuner(estimator,\n",
    "                                             objective_metric_name,\n",
    "                                             hyperparameter_ranges,\n",
    "                                             metric_definitions,\n",
    "                                             strategy='Bayesian',\n",
    "                                             objective_type='Minimize',\n",
    "                                             max_jobs=4L,\n",
    "                                             max_parallel_jobs=2L)\n",
    "\n",
    "job_name <- paste('tune-mars', format(Sys.time(), '%Y%m%d-%H-%M-%S'), sep = '-')\n",
    "\n",
    "tuner$fit(inputs=list(\"train\" = s3_train_input), wait=TRUE, job_name = job_name)"
   ]
  },
  {
   "cell_type": "code",
   "execution_count": null,
   "id": "4e23dd4e",
   "metadata": {
    "lines_to_next_cell": 0,
    "tags": []
   },
   "outputs": [],
   "source": [
    "best_estimator <- tuner$best_estimator()"
   ]
  },
  {
   "cell_type": "markdown",
   "id": "4eee99a7",
   "metadata": {},
   "source": [
    "\n"
   ]
  },
  {
   "cell_type": "code",
   "execution_count": null,
   "id": "c9160c87",
   "metadata": {},
   "outputs": [],
   "source": [
    "inference_container_uri <- paste(account_id, \"dkr.ecr\", region, \"amazonaws.com/sagemaker-r-inference:1.0\", sep=\".\")\n",
    "\n",
    "trained_model <- best_estimator$create_model(name='r-iris-model', role=role, image_uri = inference_container_uri)\n",
    "endpoint  <- trained_model$deploy(initial_instance_count = 1L,\n",
    "                                  instance_type = \"ml.t2.medium\",\n",
    "                                  serializer = sagemaker$serializers$CSVSerializer(content_type='text/csv'),\n",
    "                                  deserializer = sagemaker$deserializers$JSONDeserializer())"
   ]
  },
  {
   "cell_type": "markdown",
   "id": "f2b9f8c0",
   "metadata": {
    "lines_to_next_cell": 0
   },
   "source": [
    "Test our endpoint"
   ]
  },
  {
   "cell_type": "code",
   "execution_count": null,
   "id": "d1a06d5c",
   "metadata": {},
   "outputs": [],
   "source": [
    "test_sample <- unlist(data[1,])\n",
    "probabilities <- endpoint$predict(test_sample)\n",
    "predicted_class <- which.max(as.numeric(unlist(strsplit(probabilities, \",\"))))\n",
    "\n",
    "print(probabilities)\n",
    "print(predicted_class)"
   ]
  },
  {
   "cell_type": "markdown",
   "id": "d9da4a1e",
   "metadata": {
    "lines_to_next_cell": 0
   },
   "source": [
    "Delete the endpoint when done"
   ]
  },
  {
   "cell_type": "code",
   "execution_count": null,
   "id": "3a7cf01f",
   "metadata": {},
   "outputs": [],
   "source": [
    "endpoint$delete_endpoint(delete_endpoint_config=TRUE)"
   ]
  }
 ],
 "metadata": {
  "jupytext": {
   "cell_metadata_filter": "tags,-all",
   "main_language": "R",
   "notebook_metadata_filter": "-all"
  },
  "kernelspec": {
   "display_name": "R",
   "language": "R",
   "name": "ir"
  },
  "language_info": {
   "codemirror_mode": "r",
   "file_extension": ".r",
   "mimetype": "text/x-r-source",
   "name": "R",
   "pygments_lexer": "r",
   "version": "4.3.3"
  }
 },
 "nbformat": 4,
 "nbformat_minor": 5
}
