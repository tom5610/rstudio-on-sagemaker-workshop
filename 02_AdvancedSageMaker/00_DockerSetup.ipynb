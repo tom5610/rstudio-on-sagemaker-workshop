{
 "cells": [
  {
   "cell_type": "raw",
   "id": "ad13a51c",
   "metadata": {},
   "source": [
    "---\n",
    "title: \"00_DockerSetup\"\n",
    "output: rmarkdown::github_document\n",
    "knit: (function(inputFile, encoding) {\n",
    "  rmarkdown::render(inputFile, encoding = encoding, output_dir = \"rendered\") })\n",
    "---"
   ]
  },
  {
   "cell_type": "markdown",
   "id": "0d96a374",
   "metadata": {},
   "source": [
    "## Docker Setup\n",
    "\n",
    "# From: https://github.com/aws-samples/sagemaker-studio-image-build-cli\n",
    "\n",
    "## Trust Policy\n",
    ">\n",
    "{\n",
    "  \"Version\": \"2012-10-17\",\n",
    "  \"Statement\": [\n",
    "    {\n",
    "      \"Effect\": \"Allow\",\n",
    "      \"Principal\": {\n",
    "        \"Service\": [\n",
    "          \"codebuild.amazonaws.com\"\n",
    "        ]\n",
    "      },\n",
    "      \"Action\": \"sts:AssumeRole\"\n",
    "    }\n",
    "  ]\n",
    "}"
   ]
  },
  {
   "cell_type": "markdown",
   "id": "00d2500d",
   "metadata": {},
   "source": [
    "## Permissions\n",
    "> \n",
    "{\n",
    "    \"Version\": \"2012-10-17\",\n",
    "    \"Statement\": [\n",
    "        {\n",
    "            \"Effect\": \"Allow\",\n",
    "            \"Action\": [\n",
    "                \"codebuild:DeleteProject\",\n",
    "                \"codebuild:CreateProject\",\n",
    "                \"codebuild:BatchGetBuilds\",\n",
    "                \"codebuild:StartBuild\"\n",
    "            ],\n",
    "            \"Resource\": \"arn:aws:codebuild:*:*:project/sagemaker-studio*\"\n",
    "        },\n",
    "        {\n",
    "            \"Effect\": \"Allow\",\n",
    "            \"Action\": \"logs:CreateLogStream\",\n",
    "            \"Resource\": \"arn:aws:logs:*:*:log-group:/aws/codebuild/sagemaker-studio*\"\n",
    "        },\n",
    "        {\n",
    "            \"Effect\": \"Allow\",\n",
    "            \"Action\": [\n",
    "                \"logs:GetLogEvents\",\n",
    "                \"logs:PutLogEvents\"\n",
    "            ],\n",
    "            \"Resource\": \"arn:aws:logs:*:*:log-group:/aws/codebuild/sagemaker-studio*:log-stream:*\"\n",
    "        },\n",
    "        {\n",
    "            \"Effect\": \"Allow\",\n",
    "            \"Action\": \"logs:CreateLogGroup\",\n",
    "            \"Resource\": \"*\"\n",
    "        },\n",
    "        {\n",
    "            \"Effect\": \"Allow\",\n",
    "            \"Action\": [\n",
    "                \"ecr:CreateRepository\",\n",
    "                \"ecr:BatchGetImage\",\n",
    "                \"ecr:CompleteLayerUpload\",\n",
    "                \"ecr:DescribeImages\",\n",
    "                \"ecr:DescribeRepositories\",\n",
    "                \"ecr:UploadLayerPart\",\n",
    "                \"ecr:ListImages\",\n",
    "                \"ecr:InitiateLayerUpload\",\n",
    "                \"ecr:BatchCheckLayerAvailability\",\n",
    "                \"ecr:PutImage\"\n",
    "            ],\n",
    "            \"Resource\": \"arn:aws:ecr:*:*:repository/sagemaker-studio*\"\n",
    "        },\n",
    "        {\n",
    "            \"Effect\": \"Allow\",\n",
    "            \"Action\": \"ecr:GetAuthorizationToken\",\n",
    "            \"Resource\": \"*\"\n",
    "        },\n",
    "        {\n",
    "            \"Effect\": \"Allow\",\n",
    "            \"Action\": [\n",
    "              \"s3:GetObject\",\n",
    "              \"s3:DeleteObject\",\n",
    "              \"s3:PutObject\"\n",
    "              ],\n",
    "            \"Resource\": \"arn:aws:s3:::sagemaker-*/*\"\n",
    "        },\n",
    "        {\n",
    "            \"Effect\": \"Allow\",\n",
    "            \"Action\": [\n",
    "                \"s3:CreateBucket\"\n",
    "            ],\n",
    "            \"Resource\": \"arn:aws:s3:::sagemaker*\"\n",
    "        },\n",
    "        {\n",
    "            \"Effect\": \"Allow\",\n",
    "            \"Action\": [\n",
    "                \"iam:GetRole\",\n",
    "                \"iam:ListRoles\"\n",
    "            ],\n",
    "            \"Resource\": \"*\"\n",
    "        },\n",
    "        {\n",
    "            \"Effect\": \"Allow\",\n",
    "            \"Action\": \"iam:PassRole\",\n",
    "            \"Resource\": \"arn:aws:iam::*:role/*\",\n",
    "            \"Condition\": {\n",
    "                \"StringLikeIfExists\": {\n",
    "                    \"iam:PassedToService\": \"codebuild.amazonaws.com\"\n",
    "                }\n",
    "            }\n",
    "        }\n",
    "    ]\n",
    "}\n"
   ]
  },
  {
   "cell_type": "markdown",
   "id": "05cedb6c",
   "metadata": {
    "lines_to_next_cell": 0
   },
   "source": [
    "## Install Studio Docker CLI"
   ]
  },
  {
   "cell_type": "code",
   "execution_count": null,
   "id": "38483066",
   "metadata": {
    "lines_to_next_cell": 2,
    "tags": [
     "remove_output"
    ]
   },
   "outputs": [],
   "source": [
    "pip install sagemaker-studio-image-build"
   ]
  },
  {
   "cell_type": "markdown",
   "id": "077eff09",
   "metadata": {
    "lines_to_next_cell": 0
   },
   "source": [
    "## Build Processing Container"
   ]
  },
  {
   "cell_type": "code",
   "execution_count": null,
   "id": "88f9185c",
   "metadata": {
    "tags": [
     "remove_output"
    ]
   },
   "outputs": [],
   "source": [
    "/home/sagemaker-user/.local/bin/sm-docker build . --file ./docker/Dockerfile-Processing --repository sagemaker-r-processing:1.0"
   ]
  },
  {
   "cell_type": "markdown",
   "id": "afde1053",
   "metadata": {
    "lines_to_next_cell": 0
   },
   "source": [
    "## Build Training Container"
   ]
  },
  {
   "cell_type": "code",
   "execution_count": null,
   "id": "7677762c",
   "metadata": {
    "tags": [
     "remove_output"
    ]
   },
   "outputs": [],
   "source": [
    "/home/sagemaker-user/.local/bin/sm-docker build . --file ./docker/Dockerfile-Training --repository sagemaker-r-training:1.0"
   ]
  },
  {
   "cell_type": "markdown",
   "id": "7d5c71ae",
   "metadata": {
    "lines_to_next_cell": 0
   },
   "source": [
    "## Build Inference Container"
   ]
  },
  {
   "cell_type": "code",
   "execution_count": null,
   "id": "f82c72e2",
   "metadata": {
    "lines_to_next_cell": 0,
    "tags": [
     "remove_output"
    ]
   },
   "outputs": [],
   "source": [
    "/home/sagemaker-user/.local/bin/sm-docker build . --file ./docker/Dockerfile-Inference --repository sagemaker-r-inference:1.0"
   ]
  },
  {
   "cell_type": "markdown",
   "id": "74e0e517",
   "metadata": {},
   "source": [
    "\n"
   ]
  }
 ],
 "metadata": {
  "jupytext": {
   "cell_metadata_filter": "tags,-all",
   "main_language": "bash",
   "notebook_metadata_filter": "-all"
  },
  "kernelspec": {
   "display_name": "R",
   "language": "R",
   "name": "ir"
  },
  "language_info": {
   "codemirror_mode": "r",
   "file_extension": ".r",
   "mimetype": "text/x-r-source",
   "name": "R",
   "pygments_lexer": "r",
   "version": "4.3.3"
  }
 },
 "nbformat": 4,
 "nbformat_minor": 5
}
