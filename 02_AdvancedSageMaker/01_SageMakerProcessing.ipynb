{
 "cells": [
  {
   "cell_type": "raw",
   "id": "cd3ef61e",
   "metadata": {},
   "source": [
    "---\n",
    "title: \"01_SageMakerProcessing\"\n",
    "output: rmarkdown::github_document\n",
    "knit: (function(inputFile, encoding) {\n",
    "  rmarkdown::render(inputFile, encoding = encoding, output_dir = \"rendered\") })\n",
    "---"
   ]
  },
  {
   "cell_type": "markdown",
   "id": "4c693b72",
   "metadata": {
    "lines_to_next_cell": 0
   },
   "source": [
    "Clear the workspace"
   ]
  },
  {
   "cell_type": "code",
   "execution_count": null,
   "id": "dc82998f",
   "metadata": {},
   "outputs": [],
   "source": [
    "rm(list = ls())"
   ]
  },
  {
   "cell_type": "markdown",
   "id": "0a6b1462",
   "metadata": {
    "lines_to_next_cell": 0
   },
   "source": [
    "## SageMaker Processing\n",
    "\n",
    "## Reinstall numpy to workaround conflict between reticulate and RStudio v4.x due to BLAS library dependency\n",
    "## The reinstall process takes 5 minutes.\n",
    "## https://github.com/rstudio/reticulate/issues/1257"
   ]
  },
  {
   "cell_type": "code",
   "execution_count": null,
   "id": "8e0fceac",
   "metadata": {},
   "outputs": [],
   "source": [
    "%%bash\n",
    "python_path=$(which python)\n",
    "echo $python_path\n",
    "sudo --set-home $python_path -m pip install --no-user --force-reinstall --no-binary numpy numpy"
   ]
  },
  {
   "cell_type": "markdown",
   "id": "e99677f3",
   "metadata": {
    "lines_to_next_cell": 0
   },
   "source": [
    "## Imports"
   ]
  },
  {
   "cell_type": "code",
   "execution_count": null,
   "id": "6ac83b28",
   "metadata": {},
   "outputs": [],
   "source": [
    "suppressWarnings(library(reticulate))\n",
    "path_to_python <- system(\"which python\", intern = TRUE)\n",
    "use_python(path_to_python)\n",
    "sagemaker <- import('sagemaker')"
   ]
  },
  {
   "cell_type": "code",
   "execution_count": null,
   "id": "43e26e53",
   "metadata": {
    "lines_to_next_cell": 2
   },
   "outputs": [],
   "source": [
    "role = sagemaker$get_execution_role()\n",
    "session = sagemaker$Session()\n",
    "s3_output = session$default_bucket()\n",
    "s3_prefix = \"R-in-Processing\"\n",
    "\n",
    "account_id <- session$account_id()\n",
    "region <- session$boto_region_name"
   ]
  },
  {
   "cell_type": "code",
   "execution_count": null,
   "id": "650f47a6",
   "metadata": {
    "tags": [
     "remove_output"
    ]
   },
   "outputs": [],
   "source": [
    "container_uri <- paste(account_id, \"dkr.ecr\", region, \"amazonaws.com/sagemaker-r-processing:1.0\", sep=\".\")\n",
    "print(container_uri)"
   ]
  },
  {
   "cell_type": "code",
   "execution_count": null,
   "id": "9611a3cd",
   "metadata": {
    "lines_to_next_cell": 0
   },
   "outputs": [],
   "source": [
    "processor <- sagemaker$processing$ScriptProcessor(image_uri = container_uri,\n",
    "                                                   command=list(\"Rscript\"),\n",
    "                                                   role = role,\n",
    "                                                   instance_count=1L,\n",
    "                                                   instance_type=\"ml.c5.xlarge\")\n",
    "processor$run(\n",
    "    code=\"/home/sagemaker-user/rstudio-on-sagemaker-workshop/02_AdvancedSageMaker/preprocessing.R\",\n",
    "    job_name=paste(\"r-processing\", as.integer(as.numeric(Sys.time())), sep=\"-\"))"
   ]
  },
  {
   "cell_type": "markdown",
   "id": "213cf3d4",
   "metadata": {},
   "source": [
    "\n"
   ]
  }
 ],
 "metadata": {
  "jupytext": {
   "cell_metadata_filter": "tags,-all",
   "main_language": "R",
   "notebook_metadata_filter": "-all"
  }
 },
 "nbformat": 4,
 "nbformat_minor": 5
}
