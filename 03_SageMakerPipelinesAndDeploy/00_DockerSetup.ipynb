{
 "cells": [
  {
   "cell_type": "raw",
   "id": "8c2b1a63",
   "metadata": {},
   "source": [
    "---\n",
    "title: \"00_DockerSetup\"\n",
    "output: rmarkdown::github_document\n",
    "knit: (function(inputFile, encoding) {\n",
    "  rmarkdown::render(inputFile, encoding = encoding, output_dir = \"rendered\") })\n",
    "---"
   ]
  },
  {
   "cell_type": "markdown",
   "id": "cd89d74f",
   "metadata": {
    "lines_to_next_cell": 0
   },
   "source": [
    "# Build the containers\n",
    "In this example, we are building our own, reusable, containers. If you are unfamiliar with this process, feel free to jump to the previous section in this repository, in 02_AdvancedSageMaker to learn more about this. \n",
    "\n",
    "## Install Studio Docker CLI"
   ]
  },
  {
   "cell_type": "code",
   "execution_count": null,
   "id": "cd6cbc77",
   "metadata": {
    "tags": [
     "remove_output"
    ]
   },
   "outputs": [],
   "source": [
    "pip install sagemaker-studio-image-build"
   ]
  },
  {
   "cell_type": "code",
   "execution_count": null,
   "id": "08c1ca99",
   "metadata": {
    "tags": [
     "remove_output"
    ]
   },
   "outputs": [],
   "source": [
    "/home/sagemaker-user/.local/bin/sm-docker build . --file ./docker/Dockerfile-processing --repository sagemaker-r-processing-pipeline:1.0"
   ]
  },
  {
   "cell_type": "code",
   "execution_count": null,
   "id": "1843aae2",
   "metadata": {
    "lines_to_next_cell": 0,
    "tags": [
     "remove_output"
    ]
   },
   "outputs": [],
   "source": [
    "/home/sagemaker-user/.local/bin/sm-docker build . --file ./docker/Dockerfile-train-and-deploy --repository sagemaker-r-train-and-deploy-pipeline:1.0"
   ]
  },
  {
   "cell_type": "markdown",
   "id": "3974550e",
   "metadata": {},
   "source": []
  }
 ],
 "metadata": {
  "jupytext": {
   "cell_metadata_filter": "tags,-all",
   "main_language": "bash",
   "notebook_metadata_filter": "-all"
  }
 },
 "nbformat": 4,
 "nbformat_minor": 5
}
