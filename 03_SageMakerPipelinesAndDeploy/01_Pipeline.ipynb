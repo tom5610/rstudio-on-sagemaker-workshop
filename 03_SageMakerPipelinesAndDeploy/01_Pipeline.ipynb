{
 "cells": [
  {
   "cell_type": "raw",
   "id": "b26e06bb",
   "metadata": {},
   "source": [
    "---\n",
    "title: \"01_Pipeline\"\n",
    "output: rmarkdown::github_document\n",
    "knit: (function(inputFile, encoding) {\n",
    "  rmarkdown::render(inputFile, encoding = encoding, output_dir = \"rendered\") })\n",
    "---"
   ]
  },
  {
   "cell_type": "markdown",
   "id": "b3c734e8",
   "metadata": {},
   "source": [
    "# Use RStudio on SageMaker to create a SageMaker Pipeline and deploy to a serverless endpoint\n",
    "\n",
    "This is an example of using RStudio on SageMaker showing how you can create a SageMaker Pipeline with R as well as deploying your R model in a serverless endpoint. \n",
    "\n",
    "The following diagram shows the architecture used in this example."
   ]
  },
  {
   "cell_type": "markdown",
   "id": "c1f06866",
   "metadata": {},
   "source": [
    "![SMPipelinesRStudio](https://user-images.githubusercontent.com/18154355/163631036-88b6b936-b4f9-4228-815d-95611e65fdf0.png)"
   ]
  },
  {
   "cell_type": "markdown",
   "id": "21964fdb",
   "metadata": {},
   "source": [
    "This file contains the logic to run the end to end process along with comments for each of the steps.\n"
   ]
  },
  {
   "cell_type": "markdown",
   "id": "03ca41fc",
   "metadata": {},
   "source": [
    "## Folder/File Structure\n",
    "\n",
    "- `iam_policy.json` & `trust_relationship.json` contain the additional IAM policy and trust relationship that needs to be added to your assumed role and contain the permissions you will need to use CodeBuild to build the custom R containers\n",
    "- `docker/` contains the docker file definitions and helper files needed by the custom containers\n",
    "- `preprocessing`, `postprocessing` and `training_and_deploying` folders container the  code for the respective steps\n",
    "- `pipeline.R` is the file containing the definition of the SageMaker Pipeline. "
   ]
  },
  {
   "cell_type": "markdown",
   "id": "ce895e85",
   "metadata": {},
   "source": [
    "# Setup & preparation\n",
    "To begin with, make sure you have all the necessary packages installed and initialise some variables that we will need in the next cells. \n"
   ]
  },
  {
   "cell_type": "code",
   "execution_count": null,
   "id": "a506b7e2",
   "metadata": {},
   "outputs": [],
   "source": [
    "suppressWarnings(library(dplyr))\n",
    "suppressWarnings(library(reticulate))\n",
    "path_to_python <- system(\"which python\", intern = TRUE)\n",
    "use_python(path_to_python)\n",
    "\n",
    "suppressWarnings(library(readr))\n",
    "\n",
    "sagemaker <- import('sagemaker')\n",
    "boto3 <- import('boto3')\n",
    "\n",
    "session <- sagemaker$Session()\n",
    "bucket <- session$default_bucket()\n",
    "\n",
    "role_arn <- sagemaker$get_execution_role()\n",
    "account_id <- session$account_id()\n",
    "region <- boto3$session$Session()$region_name\n",
    "\n",
    "local_path <- dirname(rstudioapi::getSourceEditorContext()$path)\n"
   ]
  },
  {
   "cell_type": "markdown",
   "id": "13088ead",
   "metadata": {},
   "source": [
    "## Download data\n",
    "\n",
    "For this example we will be using the famous abalone dataset as can be found on the [UCI dataset archive](https://archive.ics.uci.edu/ml/datasets/Abalone) where we will create a model to predict the age of an abalone shell based on physical measurements.\n",
    "\n",
    "Dua, D. and Graff, C. (2019). UCI Machine Learning Repository [<http://archive.ics.uci.edu/ml>]. Irvine, CA: University of California, School of Information and Computer Science.\n"
   ]
  },
  {
   "cell_type": "code",
   "execution_count": null,
   "id": "a7872b33",
   "metadata": {},
   "outputs": [],
   "source": [
    "data_file <- 's3://sagemaker-sample-files/datasets/tabular/uci_abalone/abalone.csv'\n",
    "data_string <- sagemaker$s3$S3Downloader$read_file(data_file)\n",
    "abalone <- read_csv(file = data_string, col_names = FALSE)\n",
    "names(abalone) <- c('sex', 'length', 'diameter', 'height', 'whole_weight', 'shucked_weight', 'viscera_weight', 'shell_weight', 'rings')\n",
    "head(abalone)\n",
    "\n",
    "dir.create(paste0(local_path,\"/data\"), showWarnings = FALSE)\n",
    "write_csv(abalone, paste0(local_path,\"/data/abalone_data.csv\"))\n",
    "\n",
    "\n",
    "s3_raw_data <- session$upload_data(path = paste0(local_path,\"/data/abalone_data.csv\"),\n",
    "                                   bucket = bucket,\n",
    "                                   key_prefix = 'pipeline-example/data')"
   ]
  },
  {
   "cell_type": "markdown",
   "id": "d8aa3597",
   "metadata": {
    "lines_to_next_cell": 0
   },
   "source": [
    "We are also creating the variable `abalone_t`. This will be used for testing the endpoint is available at a later stage."
   ]
  },
  {
   "cell_type": "code",
   "execution_count": null,
   "id": "02fc6550",
   "metadata": {},
   "outputs": [],
   "source": [
    "abalone_t <- abalone %>%\n",
    "  mutate(female = as.integer(ifelse(sex == 'F', 1, 0)),\n",
    "         male = as.integer(ifelse(sex == 'M', 1, 0)),\n",
    "         infant = as.integer(ifelse(sex == 'I', 1, 0))) %>%\n",
    "  select(-sex)"
   ]
  },
  {
   "cell_type": "markdown",
   "id": "ecfaf1df",
   "metadata": {},
   "source": [
    "# Run pipeline\n",
    "\n",
    "The pipelines is defined in the file `pipeline.R`. Head to that file to dive deeper into how a SageMaker Pipeline is being defined. To run it, we simply need to run the upsert method to create or update the pipeline and then running the start method actually starts the execution of the pipeline on SageMaker. \n",
    "\n",
    "To view the pipeline as it is running, head to SageMaker Studio where a custom UI will allow you to visualise the DAG of the execution of the pipeline."
   ]
  },
  {
   "cell_type": "code",
   "execution_count": null,
   "id": "c206a130",
   "metadata": {},
   "outputs": [],
   "source": [
    "source(paste0(local_path, \"/pipeline.R\"))\n",
    "my_pipeline <- get_pipeline(input_data_uri=s3_raw_data)\n",
    "\n",
    "upserted <- my_pipeline$upsert(role_arn=role_arn)\n",
    "execution <- my_pipeline$start()"
   ]
  },
  {
   "cell_type": "code",
   "execution_count": null,
   "id": "bce19401",
   "metadata": {
    "tags": [
     "remove_output"
    ]
   },
   "outputs": [],
   "source": [
    "execution$describe()\n",
    "execution$wait()"
   ]
  },
  {
   "cell_type": "markdown",
   "id": "316400b5",
   "metadata": {},
   "source": [
    "# Deploy to serverless endpoint\n",
    "Once the pipeline has finished running, a model will be registered to the model registry and we will be able to deploy the model to an endpoint. In this example we deploy on a serverless endpoint but you are welcome to deploy with any of the supported deployment methods.\n",
    "\n",
    "<br> \n",
    "\n",
    "From all approved models in the model registry, we want to select the one most recently created. We can simply query the model registry as below to get the ARN for that model. "
   ]
  },
  {
   "cell_type": "code",
   "execution_count": null,
   "id": "e1c8e292",
   "metadata": {},
   "outputs": [],
   "source": [
    "approved_models <- boto3$client(\"sagemaker\")$list_model_packages(ModelApprovalStatus='Approved', \n",
    "                                                                 ModelPackageGroupName='AbaloneRModelPackageGroup',\n",
    "                                                                 SortBy='CreationTime',\n",
    "                                                                 SortOrder='Ascending')\n",
    "model_package_arn <- approved_models[[\"ModelPackageSummaryList\"]][[1]][[\"ModelPackageArn\"]]"
   ]
  },
  {
   "cell_type": "markdown",
   "id": "41c72b6a",
   "metadata": {},
   "source": [
    "For the actual deployment, we need to create the SageMaker Model and then we can use the SageMaker SDK to deploy to a serverless endpoint as per below."
   ]
  },
  {
   "cell_type": "code",
   "execution_count": null,
   "id": "fa244644",
   "metadata": {},
   "outputs": [],
   "source": [
    "\n",
    "endpoint_name <- paste(\"serverless-r-abalone-endpoint\", format(Sys.time(), '%Y%m%d-%H-%M-%S'), sep = '-')\n",
    "\n",
    "\n",
    "model <- sagemaker$ModelPackage(role=role_arn, \n",
    "                                model_package_arn=model_package_arn, \n",
    "                                sagemaker_session=session)\n",
    "\n",
    "serverless_config <- sagemaker$serverless$ServerlessInferenceConfig(memory_size_in_mb=1024L, max_concurrency=5L)\n",
    "model$deploy(serverless_inference_config=serverless_config, endpoint_name=endpoint_name)\n"
   ]
  },
  {
   "cell_type": "markdown",
   "id": "a179dff0",
   "metadata": {},
   "source": [
    "## Perform inference on test data\n",
    "Using the data in variable `abalone_t` we will perform some sample predictions using the newly deployed model to test that it is up and running and capable of giving back predictions. "
   ]
  },
  {
   "cell_type": "code",
   "execution_count": null,
   "id": "48cfc06e",
   "metadata": {
    "lines_to_next_cell": 0
   },
   "outputs": [],
   "source": [
    "suppressWarnings(library(jsonlite))\n",
    "x = list(features=format_csv(abalone_t[1:3,1:11]))\n",
    "x = toJSON(x)\n",
    "\n",
    "# test the endpoint\n",
    "predictor <- sagemaker$predictor$Predictor(endpoint_name=endpoint_name, sagemaker_session=session)\n",
    "predictor$predict(x)"
   ]
  },
  {
   "cell_type": "markdown",
   "id": "774eadb5",
   "metadata": {},
   "source": []
  },
  {
   "cell_type": "markdown",
   "id": "e95f7b45",
   "metadata": {},
   "source": [
    "# Delete endpoint\n",
    "Don't forget to delete the running endpoint once you have finished experimenting. In this case, if the endpoint remains unused, no costs will be incurred, since it is a serverless endpoint, but nevertheless it is a good practice to always shut down unused resources/endpoints at the end of experimentation. "
   ]
  },
  {
   "cell_type": "code",
   "execution_count": null,
   "id": "a51f1770",
   "metadata": {},
   "outputs": [],
   "source": [
    "predictor$delete_endpoint(delete_endpoint_config=TRUE)"
   ]
  }
 ],
 "metadata": {
  "jupytext": {
   "cell_metadata_filter": "tags,-all",
   "main_language": "R",
   "notebook_metadata_filter": "-all"
  }
 },
 "nbformat": 4,
 "nbformat_minor": 5
}
